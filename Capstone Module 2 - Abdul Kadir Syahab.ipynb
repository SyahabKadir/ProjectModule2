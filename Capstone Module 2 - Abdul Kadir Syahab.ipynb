{
 "cells": [
  {
   "cell_type": "markdown",
   "metadata": {},
   "source": [
    "# UNDERSTANDING DATABASE NORTHWIND"
   ]
  },
  {
   "cell_type": "markdown",
   "metadata": {},
   "source": [
    "## Context\n",
    "\n",
    "Sebuah perusahaan fiktif \"**Northwind**\", bergerak di bidang ekspor-impor makanan khusus dari seluruh dunia ingin mengetahui gambaran secara umum tentang bisnis yang mereka jalankan. Dimana perusahaan ini memberikan database mereka yang menunjukan detail dari proses transaksi dengan skema bisnis yang baik dengan basis data penjualan mereka. Dari database tersebut, perusahaan ingin bisa mendapatkan insight yang dapat dijalankan, sehingga nantinya mereka dapat melakukan penerapan strategi yang tepat sasaran untuk memperoleh keuntungan yang lebih dari saat ini.\n",
    "\n",
    "## Database Information\n",
    "\n",
    "Sumber Database : https://drive.google.com/drive/folders/1fTHrwh_gcLsOFKXHnUzUGEu_APxLoD9i\n",
    "\n",
    "Dimana Database ini mempunyai 13 Tabel, yaitu :\n",
    "- **categories**           : Menyimpan informasi tentang kategori makanan\n",
    "- **customercustomerdemo** : Sub-relations dari tabel customers\n",
    "- **customerdemographics** : Sub-relations dari tabel customercustomerdemo\n",
    "- **customers**            : Menyimpan informasi pelanggan yang membeli produk dari Northwind\n",
    "- **employees**            : Menyimpan detail informasi karyawan dari Northwind \n",
    "- **employeeterritories**  : Sub-relations dari tabel employees dan territories\n",
    "- **orderdetails**         : Sub-relations dari tabel orders dan tabel products, berisikan detail dari pesanan\n",
    "- **orders**               : Menyimpan informasi detail tentang transaksi antara pelanggan dan perusahaan\n",
    "- **products**             : Menyimpan informasi detail tentang produk\n",
    "- **region**               : Sub-relations dari tabel territories\n",
    "- **shippers**             : Menyimpan detail informasi dari pengiriman\n",
    "- **suppliers**            : Menyimpan informasi Suppliers dan Vendors dari Northwind\n",
    "- **territories**          : Sub-relations dari tabel Employee territories\n",
    "\n",
    "Setiap tabel yang tertera pada database dapat terhubung, baik secara langsung maupun tidak langsung, sehingga setiap informasi dari database ini akan dapat saling berkaitan."
   ]
  },
  {
   "cell_type": "markdown",
   "metadata": {},
   "source": [
    "# DATABASE"
   ]
  },
  {
   "cell_type": "markdown",
   "metadata": {},
   "source": [
    "## Connecting to Database\n",
    "\n",
    "Bagian ini merupakan langkah awal untuk mulai melakukan proses analisis data. Pertama adalah membuat koneksi ke database di mana seperti yang sudah dijelaskan sebelumnya, database yang akan digunakan adalah database ``northwind``. Dengan melakukan koneksi ini, kita dapat mengakses seluruh tabel yang ada pada database."
   ]
  },
  {
   "cell_type": "code",
   "execution_count": 5,
   "metadata": {},
   "outputs": [],
   "source": [
    "# Import Modules\n",
    "\n",
    "import pandas as pd\n",
    "import numpy as np\n",
    "import mysql.connector as sqlcon"
   ]
  },
  {
   "cell_type": "code",
   "execution_count": 6,
   "metadata": {},
   "outputs": [],
   "source": [
    "# Connect To Database\n",
    "\n",
    "mydb = sqlcon.connect(\n",
    "    host = 'localhost',\n",
    "    user = 'root',\n",
    "    passwd = '12345',\n",
    "    database = 'northwind'\n",
    ")"
   ]
  },
  {
   "cell_type": "markdown",
   "metadata": {},
   "source": [
    "Selain melakukan koneksi ke database, hal lain yang perlu dilakukan pada bagian awal ini adalah membuat sebuah fungsi untuk menuliskan ``query`` yang kemudian akan disimpan dalam bentuk DataFrame. Tujuannya adalah agar data hasil ``query`` yang dibuat dapat disimpan dan digunakan untuk keperluan analisis data. Nantinya, di sini terdapat 2 query untuk mengambil data-data yang ada di database, bukan hanya berasal dari 1 tabel, tapi juga akan melibatkan hubungan antar tabel."
   ]
  },
  {
   "cell_type": "code",
   "execution_count": 7,
   "metadata": {},
   "outputs": [],
   "source": [
    "# Query Function\n",
    "\n",
    "curs = mydb.cursor()\n",
    "\n",
    "def sql_table (query) :\n",
    "    curs.execute (query)\n",
    "    result = curs.fetchall()\n",
    "    tabel1 = pd.DataFrame(result, columns=curs.column_names)\n",
    "    return tabel1"
   ]
  },
  {
   "cell_type": "markdown",
   "metadata": {},
   "source": [
    "## Data Detail & Customers\n",
    "\n",
    "Data ini merupakan data utama yang nantinya akan dianalisis lebih lanjut. Data ini merupakan gabungan dari tabel ``customers``, ``orders``, ``ordersdetails``, ``products`` dan ``categories``. Masing-masing dari setiap tabel tersebut diambil kolomnya dan tidak diambil secara keseluruhan. Informasi-informasi yang dianggap penting saja lah yang diambil. Informasi yang diambil antara lain adalah :\n",
    "\n",
    "**Tabel customers**\n",
    "- CustomerID dari tabel customers\n",
    "- CompanyName dari tabel customers\n",
    "- ContactName dari tabel customers\n",
    "- ContactTitle dari tabel customers\n",
    "- City dari tabel customers\n",
    "- Region dari tabel customers\n",
    "- PostalCode dari tabel customers\n",
    "- Country dari tabel customers\n",
    "\n",
    "**Tabel orders**\n",
    "- CustomerID dari tabel orders\n",
    "- OrderID dari tabel orders\n",
    "- OrderDate dari tabel orders\n",
    "- RequiredDate dari tabel orders\n",
    "- ShippedDate dari tabel orders\n",
    "- Freight dari tabel orders\n",
    "\n",
    "**Tabel orderdetails**\n",
    "- OrderID dari tabel orderdetails\n",
    "- ProductID dari tabel orderdetails\n",
    "- Quantity dari tabel orderdetails\n",
    "\n",
    "**Tabel products**\n",
    "- ProductID dari tabel products\n",
    "- ProductName dari tabel products\n",
    "- UnitPrice dari tabel products\n",
    "- UnitsInStock dari tabel products\n",
    "- UnitsOnOrder dari tabel products\n",
    "- Discontinued dari tabel products\n",
    "\n",
    "**Tabel categories**\n",
    "- CategoryID dari tabel categories\n",
    "- CategoryName dari tabel categories\n",
    "\n",
    "Selain dari tabel, terdapat dua kolom baru yang akan dibuat :\n",
    "- ProcessingDate : selisih antara OrderDate dan ShippedDate\n",
    "- Restock : selisih antara UnitsInStock dan UnitsOnOrder\n",
    "\n",
    "Semua informasi tersebut kemudian dijadikan dalam sebuah DataFrame yang nantinya akan diolah informasinya"
   ]
  },
  {
   "cell_type": "code",
   "execution_count": 8,
   "metadata": {},
   "outputs": [],
   "source": [
    "#Query 1\n",
    "\n",
    "tabel1 = sql_table(\n",
    "    '''\n",
    "select c.CustomerID, c.CompanyName, c.ContactName, c.ContactTitle, c.City, c.Region, c.PostalCode, c.Country,\n",
    "o.OrderID, o.OrderDate, o.RequiredDate, o.ShippedDate, o.Freight,\n",
    "od.ProductID, od.Quantity,\n",
    "p.ProductName, p.UnitPrice, p.UnitsInStock, p.UnitsOnOrder, p.ReorderLevel, p.Discontinued,\n",
    "ca.CategoryName,\n",
    "(timediff(o.ShippedDate,o.OrderDate))ProcessingDate,\n",
    "(p.UnitsInStock - p.UnitsOnOrder) Restock \n",
    "from customers c\n",
    "left join orders o on c.CustomerID = o.CustomerID\n",
    "left join orderdetails od on o.OrderID = od.OrderID\n",
    "left join products p on od.ProductID = p.ProductID\n",
    "left join categories ca on p.CategoryID = ca.CategoryID;\n",
    "    ''')"
   ]
  },
  {
   "cell_type": "code",
   "execution_count": 9,
   "metadata": {},
   "outputs": [
    {
     "data": {
      "text/html": [
       "<div>\n",
       "<style scoped>\n",
       "    .dataframe tbody tr th:only-of-type {\n",
       "        vertical-align: middle;\n",
       "    }\n",
       "\n",
       "    .dataframe tbody tr th {\n",
       "        vertical-align: top;\n",
       "    }\n",
       "\n",
       "    .dataframe thead th {\n",
       "        text-align: right;\n",
       "    }\n",
       "</style>\n",
       "<table border=\"1\" class=\"dataframe\">\n",
       "  <thead>\n",
       "    <tr style=\"text-align: right;\">\n",
       "      <th></th>\n",
       "      <th>CustomerID</th>\n",
       "      <th>CompanyName</th>\n",
       "      <th>ContactName</th>\n",
       "      <th>ContactTitle</th>\n",
       "      <th>City</th>\n",
       "      <th>Region</th>\n",
       "      <th>PostalCode</th>\n",
       "      <th>Country</th>\n",
       "      <th>OrderID</th>\n",
       "      <th>OrderDate</th>\n",
       "      <th>...</th>\n",
       "      <th>Quantity</th>\n",
       "      <th>ProductName</th>\n",
       "      <th>UnitPrice</th>\n",
       "      <th>UnitsInStock</th>\n",
       "      <th>UnitsOnOrder</th>\n",
       "      <th>ReorderLevel</th>\n",
       "      <th>Discontinued</th>\n",
       "      <th>CategoryName</th>\n",
       "      <th>ProcessingDate</th>\n",
       "      <th>Restock</th>\n",
       "    </tr>\n",
       "  </thead>\n",
       "  <tbody>\n",
       "    <tr>\n",
       "      <th>0</th>\n",
       "      <td>ALFKI</td>\n",
       "      <td>Alfreds Futterkiste</td>\n",
       "      <td>Maria Anders</td>\n",
       "      <td>Sales Representative</td>\n",
       "      <td>Berlin</td>\n",
       "      <td>None</td>\n",
       "      <td>12209</td>\n",
       "      <td>Germany</td>\n",
       "      <td>10643.0</td>\n",
       "      <td>1997-08-25</td>\n",
       "      <td>...</td>\n",
       "      <td>15.0</td>\n",
       "      <td>Rssle Sauerkraut</td>\n",
       "      <td>45.6000</td>\n",
       "      <td>26.0</td>\n",
       "      <td>0.0</td>\n",
       "      <td>0.0</td>\n",
       "      <td>1.0</td>\n",
       "      <td>Produce</td>\n",
       "      <td>8 days</td>\n",
       "      <td>26.0</td>\n",
       "    </tr>\n",
       "    <tr>\n",
       "      <th>1</th>\n",
       "      <td>ALFKI</td>\n",
       "      <td>Alfreds Futterkiste</td>\n",
       "      <td>Maria Anders</td>\n",
       "      <td>Sales Representative</td>\n",
       "      <td>Berlin</td>\n",
       "      <td>None</td>\n",
       "      <td>12209</td>\n",
       "      <td>Germany</td>\n",
       "      <td>10643.0</td>\n",
       "      <td>1997-08-25</td>\n",
       "      <td>...</td>\n",
       "      <td>21.0</td>\n",
       "      <td>Chartreuse verte</td>\n",
       "      <td>18.0000</td>\n",
       "      <td>69.0</td>\n",
       "      <td>0.0</td>\n",
       "      <td>5.0</td>\n",
       "      <td>0.0</td>\n",
       "      <td>Beverages</td>\n",
       "      <td>8 days</td>\n",
       "      <td>69.0</td>\n",
       "    </tr>\n",
       "    <tr>\n",
       "      <th>2</th>\n",
       "      <td>ALFKI</td>\n",
       "      <td>Alfreds Futterkiste</td>\n",
       "      <td>Maria Anders</td>\n",
       "      <td>Sales Representative</td>\n",
       "      <td>Berlin</td>\n",
       "      <td>None</td>\n",
       "      <td>12209</td>\n",
       "      <td>Germany</td>\n",
       "      <td>10643.0</td>\n",
       "      <td>1997-08-25</td>\n",
       "      <td>...</td>\n",
       "      <td>2.0</td>\n",
       "      <td>Spegesild</td>\n",
       "      <td>12.0000</td>\n",
       "      <td>95.0</td>\n",
       "      <td>0.0</td>\n",
       "      <td>0.0</td>\n",
       "      <td>0.0</td>\n",
       "      <td>Seafood</td>\n",
       "      <td>8 days</td>\n",
       "      <td>95.0</td>\n",
       "    </tr>\n",
       "    <tr>\n",
       "      <th>3</th>\n",
       "      <td>ALFKI</td>\n",
       "      <td>Alfreds Futterkiste</td>\n",
       "      <td>Maria Anders</td>\n",
       "      <td>Sales Representative</td>\n",
       "      <td>Berlin</td>\n",
       "      <td>None</td>\n",
       "      <td>12209</td>\n",
       "      <td>Germany</td>\n",
       "      <td>10692.0</td>\n",
       "      <td>1997-10-03</td>\n",
       "      <td>...</td>\n",
       "      <td>20.0</td>\n",
       "      <td>Vegie-spread</td>\n",
       "      <td>43.9000</td>\n",
       "      <td>24.0</td>\n",
       "      <td>0.0</td>\n",
       "      <td>5.0</td>\n",
       "      <td>0.0</td>\n",
       "      <td>Condiments</td>\n",
       "      <td>10 days</td>\n",
       "      <td>24.0</td>\n",
       "    </tr>\n",
       "    <tr>\n",
       "      <th>4</th>\n",
       "      <td>ALFKI</td>\n",
       "      <td>Alfreds Futterkiste</td>\n",
       "      <td>Maria Anders</td>\n",
       "      <td>Sales Representative</td>\n",
       "      <td>Berlin</td>\n",
       "      <td>None</td>\n",
       "      <td>12209</td>\n",
       "      <td>Germany</td>\n",
       "      <td>10702.0</td>\n",
       "      <td>1997-10-13</td>\n",
       "      <td>...</td>\n",
       "      <td>6.0</td>\n",
       "      <td>Aniseed Syrup</td>\n",
       "      <td>10.0000</td>\n",
       "      <td>13.0</td>\n",
       "      <td>70.0</td>\n",
       "      <td>25.0</td>\n",
       "      <td>0.0</td>\n",
       "      <td>Condiments</td>\n",
       "      <td>8 days</td>\n",
       "      <td>-57.0</td>\n",
       "    </tr>\n",
       "    <tr>\n",
       "      <th>...</th>\n",
       "      <td>...</td>\n",
       "      <td>...</td>\n",
       "      <td>...</td>\n",
       "      <td>...</td>\n",
       "      <td>...</td>\n",
       "      <td>...</td>\n",
       "      <td>...</td>\n",
       "      <td>...</td>\n",
       "      <td>...</td>\n",
       "      <td>...</td>\n",
       "      <td>...</td>\n",
       "      <td>...</td>\n",
       "      <td>...</td>\n",
       "      <td>...</td>\n",
       "      <td>...</td>\n",
       "      <td>...</td>\n",
       "      <td>...</td>\n",
       "      <td>...</td>\n",
       "      <td>...</td>\n",
       "      <td>...</td>\n",
       "      <td>...</td>\n",
       "    </tr>\n",
       "    <tr>\n",
       "      <th>2154</th>\n",
       "      <td>WOLZA</td>\n",
       "      <td>Wolski  Zajazd</td>\n",
       "      <td>Zbyszek Piestrzeniewicz</td>\n",
       "      <td>Owner</td>\n",
       "      <td>Warszawa</td>\n",
       "      <td>None</td>\n",
       "      <td>01-012</td>\n",
       "      <td>Poland</td>\n",
       "      <td>10998.0</td>\n",
       "      <td>1998-04-03</td>\n",
       "      <td>...</td>\n",
       "      <td>12.0</td>\n",
       "      <td>Guaran Fantstica</td>\n",
       "      <td>4.5000</td>\n",
       "      <td>20.0</td>\n",
       "      <td>0.0</td>\n",
       "      <td>0.0</td>\n",
       "      <td>1.0</td>\n",
       "      <td>Beverages</td>\n",
       "      <td>14 days</td>\n",
       "      <td>20.0</td>\n",
       "    </tr>\n",
       "    <tr>\n",
       "      <th>2155</th>\n",
       "      <td>WOLZA</td>\n",
       "      <td>Wolski  Zajazd</td>\n",
       "      <td>Zbyszek Piestrzeniewicz</td>\n",
       "      <td>Owner</td>\n",
       "      <td>Warszawa</td>\n",
       "      <td>None</td>\n",
       "      <td>01-012</td>\n",
       "      <td>Poland</td>\n",
       "      <td>10998.0</td>\n",
       "      <td>1998-04-03</td>\n",
       "      <td>...</td>\n",
       "      <td>7.0</td>\n",
       "      <td>Sirop d'rable</td>\n",
       "      <td>28.5000</td>\n",
       "      <td>113.0</td>\n",
       "      <td>0.0</td>\n",
       "      <td>25.0</td>\n",
       "      <td>0.0</td>\n",
       "      <td>Condiments</td>\n",
       "      <td>14 days</td>\n",
       "      <td>113.0</td>\n",
       "    </tr>\n",
       "    <tr>\n",
       "      <th>2156</th>\n",
       "      <td>WOLZA</td>\n",
       "      <td>Wolski  Zajazd</td>\n",
       "      <td>Zbyszek Piestrzeniewicz</td>\n",
       "      <td>Owner</td>\n",
       "      <td>Warszawa</td>\n",
       "      <td>None</td>\n",
       "      <td>01-012</td>\n",
       "      <td>Poland</td>\n",
       "      <td>10998.0</td>\n",
       "      <td>1998-04-03</td>\n",
       "      <td>...</td>\n",
       "      <td>20.0</td>\n",
       "      <td>Longlife Tofu</td>\n",
       "      <td>10.0000</td>\n",
       "      <td>4.0</td>\n",
       "      <td>20.0</td>\n",
       "      <td>5.0</td>\n",
       "      <td>0.0</td>\n",
       "      <td>Produce</td>\n",
       "      <td>14 days</td>\n",
       "      <td>-16.0</td>\n",
       "    </tr>\n",
       "    <tr>\n",
       "      <th>2157</th>\n",
       "      <td>WOLZA</td>\n",
       "      <td>Wolski  Zajazd</td>\n",
       "      <td>Zbyszek Piestrzeniewicz</td>\n",
       "      <td>Owner</td>\n",
       "      <td>Warszawa</td>\n",
       "      <td>None</td>\n",
       "      <td>01-012</td>\n",
       "      <td>Poland</td>\n",
       "      <td>10998.0</td>\n",
       "      <td>1998-04-03</td>\n",
       "      <td>...</td>\n",
       "      <td>30.0</td>\n",
       "      <td>Rhnbru Klosterbier</td>\n",
       "      <td>7.7500</td>\n",
       "      <td>125.0</td>\n",
       "      <td>0.0</td>\n",
       "      <td>25.0</td>\n",
       "      <td>0.0</td>\n",
       "      <td>Beverages</td>\n",
       "      <td>14 days</td>\n",
       "      <td>125.0</td>\n",
       "    </tr>\n",
       "    <tr>\n",
       "      <th>2158</th>\n",
       "      <td>WOLZA</td>\n",
       "      <td>Wolski  Zajazd</td>\n",
       "      <td>Zbyszek Piestrzeniewicz</td>\n",
       "      <td>Owner</td>\n",
       "      <td>Warszawa</td>\n",
       "      <td>None</td>\n",
       "      <td>01-012</td>\n",
       "      <td>Poland</td>\n",
       "      <td>11044.0</td>\n",
       "      <td>1998-04-23</td>\n",
       "      <td>...</td>\n",
       "      <td>12.0</td>\n",
       "      <td>Tarte au sucre</td>\n",
       "      <td>49.3000</td>\n",
       "      <td>17.0</td>\n",
       "      <td>0.0</td>\n",
       "      <td>0.0</td>\n",
       "      <td>0.0</td>\n",
       "      <td>Confections</td>\n",
       "      <td>8 days</td>\n",
       "      <td>17.0</td>\n",
       "    </tr>\n",
       "  </tbody>\n",
       "</table>\n",
       "<p>2159 rows × 24 columns</p>\n",
       "</div>"
      ],
      "text/plain": [
       "     CustomerID          CompanyName              ContactName  \\\n",
       "0         ALFKI  Alfreds Futterkiste             Maria Anders   \n",
       "1         ALFKI  Alfreds Futterkiste             Maria Anders   \n",
       "2         ALFKI  Alfreds Futterkiste             Maria Anders   \n",
       "3         ALFKI  Alfreds Futterkiste             Maria Anders   \n",
       "4         ALFKI  Alfreds Futterkiste             Maria Anders   \n",
       "...         ...                  ...                      ...   \n",
       "2154      WOLZA       Wolski  Zajazd  Zbyszek Piestrzeniewicz   \n",
       "2155      WOLZA       Wolski  Zajazd  Zbyszek Piestrzeniewicz   \n",
       "2156      WOLZA       Wolski  Zajazd  Zbyszek Piestrzeniewicz   \n",
       "2157      WOLZA       Wolski  Zajazd  Zbyszek Piestrzeniewicz   \n",
       "2158      WOLZA       Wolski  Zajazd  Zbyszek Piestrzeniewicz   \n",
       "\n",
       "              ContactTitle      City Region PostalCode  Country  OrderID  \\\n",
       "0     Sales Representative    Berlin   None      12209  Germany  10643.0   \n",
       "1     Sales Representative    Berlin   None      12209  Germany  10643.0   \n",
       "2     Sales Representative    Berlin   None      12209  Germany  10643.0   \n",
       "3     Sales Representative    Berlin   None      12209  Germany  10692.0   \n",
       "4     Sales Representative    Berlin   None      12209  Germany  10702.0   \n",
       "...                    ...       ...    ...        ...      ...      ...   \n",
       "2154                 Owner  Warszawa   None     01-012   Poland  10998.0   \n",
       "2155                 Owner  Warszawa   None     01-012   Poland  10998.0   \n",
       "2156                 Owner  Warszawa   None     01-012   Poland  10998.0   \n",
       "2157                 Owner  Warszawa   None     01-012   Poland  10998.0   \n",
       "2158                 Owner  Warszawa   None     01-012   Poland  11044.0   \n",
       "\n",
       "      OrderDate  ... Quantity         ProductName UnitPrice  UnitsInStock  \\\n",
       "0    1997-08-25  ...     15.0    Rssle Sauerkraut   45.6000          26.0   \n",
       "1    1997-08-25  ...     21.0    Chartreuse verte   18.0000          69.0   \n",
       "2    1997-08-25  ...      2.0           Spegesild   12.0000          95.0   \n",
       "3    1997-10-03  ...     20.0        Vegie-spread   43.9000          24.0   \n",
       "4    1997-10-13  ...      6.0       Aniseed Syrup   10.0000          13.0   \n",
       "...         ...  ...      ...                 ...       ...           ...   \n",
       "2154 1998-04-03  ...     12.0    Guaran Fantstica    4.5000          20.0   \n",
       "2155 1998-04-03  ...      7.0       Sirop d'rable   28.5000         113.0   \n",
       "2156 1998-04-03  ...     20.0       Longlife Tofu   10.0000           4.0   \n",
       "2157 1998-04-03  ...     30.0  Rhnbru Klosterbier    7.7500         125.0   \n",
       "2158 1998-04-23  ...     12.0      Tarte au sucre   49.3000          17.0   \n",
       "\n",
       "      UnitsOnOrder ReorderLevel Discontinued  CategoryName  ProcessingDate  \\\n",
       "0              0.0          0.0          1.0       Produce          8 days   \n",
       "1              0.0          5.0          0.0     Beverages          8 days   \n",
       "2              0.0          0.0          0.0       Seafood          8 days   \n",
       "3              0.0          5.0          0.0    Condiments         10 days   \n",
       "4             70.0         25.0          0.0    Condiments          8 days   \n",
       "...            ...          ...          ...           ...             ...   \n",
       "2154           0.0          0.0          1.0     Beverages         14 days   \n",
       "2155           0.0         25.0          0.0    Condiments         14 days   \n",
       "2156          20.0          5.0          0.0       Produce         14 days   \n",
       "2157           0.0         25.0          0.0     Beverages         14 days   \n",
       "2158           0.0          0.0          0.0   Confections          8 days   \n",
       "\n",
       "      Restock  \n",
       "0        26.0  \n",
       "1        69.0  \n",
       "2        95.0  \n",
       "3        24.0  \n",
       "4       -57.0  \n",
       "...       ...  \n",
       "2154     20.0  \n",
       "2155    113.0  \n",
       "2156    -16.0  \n",
       "2157    125.0  \n",
       "2158     17.0  \n",
       "\n",
       "[2159 rows x 24 columns]"
      ]
     },
     "execution_count": 9,
     "metadata": {},
     "output_type": "execute_result"
    }
   ],
   "source": [
    "#Melihat sekilas isi dari Tabel 1\n",
    "\n",
    "tabel1"
   ]
  },
  {
   "cell_type": "markdown",
   "metadata": {},
   "source": [
    "## **Data Jenis Product, Banyak Produk**\n",
    "\n",
    "Data kedua ini merupakan informasi yang bisa menjadi data tambahan untuk melihat gambaran tentang data yang dimiliki. Data ini memuat jenis produk yang tersedia mulai dari Beverages hingga Seafood, lengkap dengan banyaknya jenis produk. Dari data ini juga bisa dilihat keadaan stock barang berdasarkan kategorinya."
   ]
  },
  {
   "cell_type": "code",
   "execution_count": 28,
   "metadata": {},
   "outputs": [
    {
     "data": {
      "text/html": [
       "<div>\n",
       "<style scoped>\n",
       "    .dataframe tbody tr th:only-of-type {\n",
       "        vertical-align: middle;\n",
       "    }\n",
       "\n",
       "    .dataframe tbody tr th {\n",
       "        vertical-align: top;\n",
       "    }\n",
       "\n",
       "    .dataframe thead th {\n",
       "        text-align: right;\n",
       "    }\n",
       "</style>\n",
       "<table border=\"1\" class=\"dataframe\">\n",
       "  <thead>\n",
       "    <tr style=\"text-align: right;\">\n",
       "      <th></th>\n",
       "      <th>CategoryID</th>\n",
       "      <th>CategoryName</th>\n",
       "      <th>Banyak_Produk</th>\n",
       "    </tr>\n",
       "  </thead>\n",
       "  <tbody>\n",
       "    <tr>\n",
       "      <th>0</th>\n",
       "      <td>1</td>\n",
       "      <td>Beverages</td>\n",
       "      <td>12</td>\n",
       "    </tr>\n",
       "    <tr>\n",
       "      <th>1</th>\n",
       "      <td>2</td>\n",
       "      <td>Condiments</td>\n",
       "      <td>12</td>\n",
       "    </tr>\n",
       "    <tr>\n",
       "      <th>2</th>\n",
       "      <td>3</td>\n",
       "      <td>Confections</td>\n",
       "      <td>13</td>\n",
       "    </tr>\n",
       "    <tr>\n",
       "      <th>3</th>\n",
       "      <td>4</td>\n",
       "      <td>Dairy Products</td>\n",
       "      <td>10</td>\n",
       "    </tr>\n",
       "    <tr>\n",
       "      <th>4</th>\n",
       "      <td>5</td>\n",
       "      <td>Grains/Cereals</td>\n",
       "      <td>7</td>\n",
       "    </tr>\n",
       "    <tr>\n",
       "      <th>5</th>\n",
       "      <td>6</td>\n",
       "      <td>Meat/Poultry</td>\n",
       "      <td>6</td>\n",
       "    </tr>\n",
       "    <tr>\n",
       "      <th>6</th>\n",
       "      <td>7</td>\n",
       "      <td>Produce</td>\n",
       "      <td>5</td>\n",
       "    </tr>\n",
       "    <tr>\n",
       "      <th>7</th>\n",
       "      <td>8</td>\n",
       "      <td>Seafood</td>\n",
       "      <td>12</td>\n",
       "    </tr>\n",
       "  </tbody>\n",
       "</table>\n",
       "</div>"
      ],
      "text/plain": [
       "   CategoryID    CategoryName  Banyak_Produk\n",
       "0           1       Beverages             12\n",
       "1           2      Condiments             12\n",
       "2           3     Confections             13\n",
       "3           4  Dairy Products             10\n",
       "4           5  Grains/Cereals              7\n",
       "5           6    Meat/Poultry              6\n",
       "6           7         Produce              5\n",
       "7           8         Seafood             12"
      ]
     },
     "execution_count": 28,
     "metadata": {},
     "output_type": "execute_result"
    }
   ],
   "source": [
    "#Query 2\n",
    "\n",
    "tabel2 = sql_table(\n",
    "    '''\n",
    "select p.CategoryID, c.CategoryName, count(p.CategoryID) Banyak_Produk \n",
    "from products p \n",
    "left join categories c on p.CategoryID = c.CategoryID \n",
    "group by CategoryName \n",
    "order by CategoryID\n",
    "    ''')\n",
    "\n",
    "tabel2"
   ]
  },
  {
   "cell_type": "markdown",
   "metadata": {},
   "source": [
    "# **DATA MANIPULATION**"
   ]
  },
  {
   "cell_type": "markdown",
   "metadata": {},
   "source": [
    "Seperti yang telah dijelaskan sebelumnya, data yang digunakan untuk dianalisis adalah data pada ```tabel1```. Sebelum melakukan analisis lebih lanjut, hal yang harus dilakukan adalah mengecek informasi serta anomali pada data. Jika memang terdapat hal-hal yang dianggap 'kotor' pada data, maka yang perlu dilakukan adalah melakukan penanganan pada bagian tersebut. Pada bagian ini, data akan 'dibersihkan', sehingga output akhir yang diharapkan adalah terdapat sebuah dataset yang bersih yang dapat dianalisis lebih lanjut dengan menampilkan visualisasi, serta melihat statistics-nya."
   ]
  },
  {
   "cell_type": "markdown",
   "metadata": {},
   "source": [
    "## Data Anomalies"
   ]
  },
  {
   "cell_type": "code",
   "execution_count": 29,
   "metadata": {},
   "outputs": [
    {
     "name": "stdout",
     "output_type": "stream",
     "text": [
      "<class 'pandas.core.frame.DataFrame'>\n",
      "Int64Index: 2082 entries, 0 to 2158\n",
      "Data columns (total 22 columns):\n",
      " #   Column          Non-Null Count  Dtype          \n",
      "---  ------          --------------  -----          \n",
      " 0   CustomerID      2082 non-null   object         \n",
      " 1   CompanyName     2082 non-null   object         \n",
      " 2   ContactName     2082 non-null   object         \n",
      " 3   ContactTitle    2082 non-null   object         \n",
      " 4   City            2082 non-null   object         \n",
      " 5   Country         2082 non-null   object         \n",
      " 6   OrderID         2082 non-null   float64        \n",
      " 7   OrderDate       2082 non-null   datetime64[ns] \n",
      " 8   RequiredDate    2082 non-null   datetime64[ns] \n",
      " 9   ShippedDate     2082 non-null   datetime64[ns] \n",
      " 10  Freight         2082 non-null   float64        \n",
      " 11  ProductID       2082 non-null   float64        \n",
      " 12  Quantity        2082 non-null   float64        \n",
      " 13  ProductName     2082 non-null   object         \n",
      " 14  UnitPrice       2082 non-null   float64        \n",
      " 15  UnitsInStock    2082 non-null   float64        \n",
      " 16  UnitsOnOrder    2082 non-null   float64        \n",
      " 17  ReorderLevel    2082 non-null   float64        \n",
      " 18  Discontinued    2082 non-null   float64        \n",
      " 19  CategoryName    2082 non-null   object         \n",
      " 20  ProcessingDate  2082 non-null   timedelta64[ns]\n",
      " 21  Restock         2082 non-null   float64        \n",
      "dtypes: datetime64[ns](3), float64(10), object(8), timedelta64[ns](1)\n",
      "memory usage: 454.1+ KB\n"
     ]
    }
   ],
   "source": [
    "#check info tabel 1\n",
    "\n",
    "tabel1.info()"
   ]
  },
  {
   "cell_type": "markdown",
   "metadata": {},
   "source": [
    "## **Melihat Data Sekilas Dari General Info**\n",
    "\n",
    "Mari sejenak melihat apa yang ditampilkan pada general info yang disajikan di atas. Terlihat bahwa secara keseluruhan terdapat 2159 baris data dengan total 21 kolom. Setiap kolomnya memiliki tipe data yang berbeda-beda. Ada object, datetime64, timedelta64 dan float. \n",
    "\n",
    "1. Oke, mari sejenak mengesampingkan tipe data. Mari berforkus pada non-null values atau data yang tersedia pada setiap kolomnya. Jika melihat informasi tersebut, tidak semua kolom atau feature yang memiliki data lengkap. Yang paling terlihat jomplang adalah pada ```Region```. Features tersebut kehilangan lebih dari 50% data. Selain dari itu, ada beberapa feature yang datanya juga missing, yang nantinya akan ditampilkan pada bagian berikutnya. **Kesimpulan pertama adalah bahwa terdapat *missing value* yang harus ditanggulangi.**\n",
    "\n",
    "\n",
    "2. Fokus berikutnya adalah perhatikan pada features berikut ini: \n",
    "    - Freight\n",
    "    - UnitPrice\n",
    "    \n",
    "   Yang kedua, yaitu pada features ``Freight`` dan juga ``UnitPrice``. Kedua feature ini sama seperti sebelumnya, masih dibaca sebagai object yang seharusnya merupakan tipe data ```Float```. Oleh karena itu, kedua features ini juga harus ditanggulangi dengan cara mengubah tipe datanya. Dari kedua penjelasan tersebut, maka **kesimpulan keduanya adalah terdapat features yang memiliki tipe data yang salah dan harus diubah sesuai dengan tipe data seharusnya.**\n",
    "   \n",
    "\n",
    "3. Fokus berikutnya adalah pada features ``PostalCode``. Pada Postal Code / Zip Code pada sebuah daerah adalah 6 series number yang memudahkan untuk proses sorting mailing address. Pada data di tabel1, kolom PostalCode mempunyai beragam cara penulisan yang salah. Hal ini mungkin disebabkan oleh Human Error dsb. Untuk mengatasinya, maka kita akan melakukan drop (delete) kolom PostalCode pada tabel1. **Kesimpulan ketiga adalah bahwa terdapat anomali data yang mungkin disebabkan oleh Human Error dsb, yang harus ditanggulangi**"
   ]
  },
  {
   "cell_type": "code",
   "execution_count": 30,
   "metadata": {},
   "outputs": [
    {
     "data": {
      "text/plain": [
       "CustomerID        0\n",
       "CompanyName       0\n",
       "ContactName       0\n",
       "ContactTitle      0\n",
       "City              0\n",
       "Country           0\n",
       "OrderID           0\n",
       "OrderDate         0\n",
       "RequiredDate      0\n",
       "ShippedDate       0\n",
       "Freight           0\n",
       "ProductID         0\n",
       "Quantity          0\n",
       "ProductName       0\n",
       "UnitPrice         0\n",
       "UnitsInStock      0\n",
       "UnitsOnOrder      0\n",
       "ReorderLevel      0\n",
       "Discontinued      0\n",
       "CategoryName      0\n",
       "ProcessingDate    0\n",
       "Restock           0\n",
       "dtype: int64"
      ]
     },
     "execution_count": 30,
     "metadata": {},
     "output_type": "execute_result"
    }
   ],
   "source": [
    "# Check Missing Value Percentage\n",
    "\n",
    "tabel1.isnull().sum()"
   ]
  },
  {
   "cell_type": "markdown",
   "metadata": {},
   "source": [
    "## **Missing Values**\n",
    "\n",
    "Telah dijelaskan sebelumnya, terdapat beberapa feature yang memang memiliki missing values. Yang paling jadi sorotan adalah ``Region`` yang memiliki total missing value yang lebih dari 50%. Artinya, jika missing valuenya dihilangkan dengan melihat row atau barisnya, setengah dari data yang dimiliki akan hilang, yang berarti akan mengakibatkan hilangnya banyak informasi. Tentu saja hal tersebut tidak dibenarkan. Untuk mengatasi hal tersebut, maka kedua feature tersebut akan dihapus dan tidak akan dimasukkan ke dalam data yang akan dianalisis.\n",
    "\n",
    "Lalu, bagaimana dengan feature lainnya? Selain dari feature``Region``, hampir semua feature memiliki missing value sebanyak 2, 4 dan 77. Dari segi angka, bisa diasumsikan bahwa  data yang hilang tersebut adalah bagian dari row yang sama yang merupakan data yang betul-betul kosong dari database-nya. Sehingga, cara untuk mengatasinya cukup dengan melakukan drop data termasuk untuk ``shippedDate`` & ``ProcessingDate``, meskipun total missing valuenya mencapai 77 data (hal tersebut karena 77 dari 2159 data hanya kurang lebih 3.5% data, sehingga tidak akan mengurangi informasi secara signifikan)."
   ]
  },
  {
   "cell_type": "markdown",
   "metadata": {},
   "source": [
    "## **Handling Anomalies**"
   ]
  },
  {
   "cell_type": "markdown",
   "metadata": {},
   "source": [
    "Setelah mengetahui hal-hal yang harus 'dibereskan' terlebih dahulu, maka pada bagian ini, hal-hal tersebut harus diatasi. Pertama, masalah missing value. Sebenarnya pada bagian sebelumnya sudah diberi tahu apa saja yang harus dilakukan untuk mengatasi masalah tersebut. Bagian pertama jelas akan dilakukan drop features ``Region``. Setelah drop feature tersebut, kita juga akan men-drop feature ``PostalCode`` dikarenakan banyaknya penulisan series yang tidak benar pada PostalCode dikarenakan Human Error dsb. Setelah itu, barulah kemudian missing value dari setiap row-nya dihapus."
   ]
  },
  {
   "cell_type": "code",
   "execution_count": 31,
   "metadata": {},
   "outputs": [
    {
     "ename": "KeyError",
     "evalue": "\"['Region' 'PostalCode'] not found in axis\"",
     "output_type": "error",
     "traceback": [
      "\u001b[1;31m---------------------------------------------------------------------------\u001b[0m",
      "\u001b[1;31mKeyError\u001b[0m                                  Traceback (most recent call last)",
      "\u001b[1;32m<ipython-input-31-b10ea282413f>\u001b[0m in \u001b[0;36m<module>\u001b[1;34m\u001b[0m\n\u001b[0;32m      1\u001b[0m \u001b[1;31m# Remove Missing Value 1\u001b[0m\u001b[1;33m\u001b[0m\u001b[1;33m\u001b[0m\u001b[1;33m\u001b[0m\u001b[0m\n\u001b[0;32m      2\u001b[0m \u001b[1;33m\u001b[0m\u001b[0m\n\u001b[1;32m----> 3\u001b[1;33m \u001b[0mtabel1\u001b[0m\u001b[1;33m.\u001b[0m\u001b[0mdrop\u001b[0m\u001b[1;33m(\u001b[0m\u001b[1;33m[\u001b[0m\u001b[1;34m'Region'\u001b[0m\u001b[1;33m,\u001b[0m \u001b[1;34m'PostalCode'\u001b[0m\u001b[1;33m]\u001b[0m\u001b[1;33m,\u001b[0m \u001b[0maxis\u001b[0m\u001b[1;33m=\u001b[0m\u001b[1;36m1\u001b[0m\u001b[1;33m,\u001b[0m \u001b[0minplace\u001b[0m \u001b[1;33m=\u001b[0m \u001b[1;32mTrue\u001b[0m\u001b[1;33m)\u001b[0m\u001b[1;33m\u001b[0m\u001b[1;33m\u001b[0m\u001b[0m\n\u001b[0m",
      "\u001b[1;32m~\\anaconda3\\lib\\site-packages\\pandas\\core\\frame.py\u001b[0m in \u001b[0;36mdrop\u001b[1;34m(self, labels, axis, index, columns, level, inplace, errors)\u001b[0m\n\u001b[0;32m   3988\u001b[0m                 \u001b[0mweight\u001b[0m  \u001b[1;36m1.0\u001b[0m     \u001b[1;36m0.8\u001b[0m\u001b[1;33m\u001b[0m\u001b[1;33m\u001b[0m\u001b[0m\n\u001b[0;32m   3989\u001b[0m         \"\"\"\n\u001b[1;32m-> 3990\u001b[1;33m         return super().drop(\n\u001b[0m\u001b[0;32m   3991\u001b[0m             \u001b[0mlabels\u001b[0m\u001b[1;33m=\u001b[0m\u001b[0mlabels\u001b[0m\u001b[1;33m,\u001b[0m\u001b[1;33m\u001b[0m\u001b[1;33m\u001b[0m\u001b[0m\n\u001b[0;32m   3992\u001b[0m             \u001b[0maxis\u001b[0m\u001b[1;33m=\u001b[0m\u001b[0maxis\u001b[0m\u001b[1;33m,\u001b[0m\u001b[1;33m\u001b[0m\u001b[1;33m\u001b[0m\u001b[0m\n",
      "\u001b[1;32m~\\anaconda3\\lib\\site-packages\\pandas\\core\\generic.py\u001b[0m in \u001b[0;36mdrop\u001b[1;34m(self, labels, axis, index, columns, level, inplace, errors)\u001b[0m\n\u001b[0;32m   3934\u001b[0m         \u001b[1;32mfor\u001b[0m \u001b[0maxis\u001b[0m\u001b[1;33m,\u001b[0m \u001b[0mlabels\u001b[0m \u001b[1;32min\u001b[0m \u001b[0maxes\u001b[0m\u001b[1;33m.\u001b[0m\u001b[0mitems\u001b[0m\u001b[1;33m(\u001b[0m\u001b[1;33m)\u001b[0m\u001b[1;33m:\u001b[0m\u001b[1;33m\u001b[0m\u001b[1;33m\u001b[0m\u001b[0m\n\u001b[0;32m   3935\u001b[0m             \u001b[1;32mif\u001b[0m \u001b[0mlabels\u001b[0m \u001b[1;32mis\u001b[0m \u001b[1;32mnot\u001b[0m \u001b[1;32mNone\u001b[0m\u001b[1;33m:\u001b[0m\u001b[1;33m\u001b[0m\u001b[1;33m\u001b[0m\u001b[0m\n\u001b[1;32m-> 3936\u001b[1;33m                 \u001b[0mobj\u001b[0m \u001b[1;33m=\u001b[0m \u001b[0mobj\u001b[0m\u001b[1;33m.\u001b[0m\u001b[0m_drop_axis\u001b[0m\u001b[1;33m(\u001b[0m\u001b[0mlabels\u001b[0m\u001b[1;33m,\u001b[0m \u001b[0maxis\u001b[0m\u001b[1;33m,\u001b[0m \u001b[0mlevel\u001b[0m\u001b[1;33m=\u001b[0m\u001b[0mlevel\u001b[0m\u001b[1;33m,\u001b[0m \u001b[0merrors\u001b[0m\u001b[1;33m=\u001b[0m\u001b[0merrors\u001b[0m\u001b[1;33m)\u001b[0m\u001b[1;33m\u001b[0m\u001b[1;33m\u001b[0m\u001b[0m\n\u001b[0m\u001b[0;32m   3937\u001b[0m \u001b[1;33m\u001b[0m\u001b[0m\n\u001b[0;32m   3938\u001b[0m         \u001b[1;32mif\u001b[0m \u001b[0minplace\u001b[0m\u001b[1;33m:\u001b[0m\u001b[1;33m\u001b[0m\u001b[1;33m\u001b[0m\u001b[0m\n",
      "\u001b[1;32m~\\anaconda3\\lib\\site-packages\\pandas\\core\\generic.py\u001b[0m in \u001b[0;36m_drop_axis\u001b[1;34m(self, labels, axis, level, errors)\u001b[0m\n\u001b[0;32m   3968\u001b[0m                 \u001b[0mnew_axis\u001b[0m \u001b[1;33m=\u001b[0m \u001b[0maxis\u001b[0m\u001b[1;33m.\u001b[0m\u001b[0mdrop\u001b[0m\u001b[1;33m(\u001b[0m\u001b[0mlabels\u001b[0m\u001b[1;33m,\u001b[0m \u001b[0mlevel\u001b[0m\u001b[1;33m=\u001b[0m\u001b[0mlevel\u001b[0m\u001b[1;33m,\u001b[0m \u001b[0merrors\u001b[0m\u001b[1;33m=\u001b[0m\u001b[0merrors\u001b[0m\u001b[1;33m)\u001b[0m\u001b[1;33m\u001b[0m\u001b[1;33m\u001b[0m\u001b[0m\n\u001b[0;32m   3969\u001b[0m             \u001b[1;32melse\u001b[0m\u001b[1;33m:\u001b[0m\u001b[1;33m\u001b[0m\u001b[1;33m\u001b[0m\u001b[0m\n\u001b[1;32m-> 3970\u001b[1;33m                 \u001b[0mnew_axis\u001b[0m \u001b[1;33m=\u001b[0m \u001b[0maxis\u001b[0m\u001b[1;33m.\u001b[0m\u001b[0mdrop\u001b[0m\u001b[1;33m(\u001b[0m\u001b[0mlabels\u001b[0m\u001b[1;33m,\u001b[0m \u001b[0merrors\u001b[0m\u001b[1;33m=\u001b[0m\u001b[0merrors\u001b[0m\u001b[1;33m)\u001b[0m\u001b[1;33m\u001b[0m\u001b[1;33m\u001b[0m\u001b[0m\n\u001b[0m\u001b[0;32m   3971\u001b[0m             \u001b[0mresult\u001b[0m \u001b[1;33m=\u001b[0m \u001b[0mself\u001b[0m\u001b[1;33m.\u001b[0m\u001b[0mreindex\u001b[0m\u001b[1;33m(\u001b[0m\u001b[1;33m**\u001b[0m\u001b[1;33m{\u001b[0m\u001b[0maxis_name\u001b[0m\u001b[1;33m:\u001b[0m \u001b[0mnew_axis\u001b[0m\u001b[1;33m}\u001b[0m\u001b[1;33m)\u001b[0m\u001b[1;33m\u001b[0m\u001b[1;33m\u001b[0m\u001b[0m\n\u001b[0;32m   3972\u001b[0m \u001b[1;33m\u001b[0m\u001b[0m\n",
      "\u001b[1;32m~\\anaconda3\\lib\\site-packages\\pandas\\core\\indexes\\base.py\u001b[0m in \u001b[0;36mdrop\u001b[1;34m(self, labels, errors)\u001b[0m\n\u001b[0;32m   5016\u001b[0m         \u001b[1;32mif\u001b[0m \u001b[0mmask\u001b[0m\u001b[1;33m.\u001b[0m\u001b[0many\u001b[0m\u001b[1;33m(\u001b[0m\u001b[1;33m)\u001b[0m\u001b[1;33m:\u001b[0m\u001b[1;33m\u001b[0m\u001b[1;33m\u001b[0m\u001b[0m\n\u001b[0;32m   5017\u001b[0m             \u001b[1;32mif\u001b[0m \u001b[0merrors\u001b[0m \u001b[1;33m!=\u001b[0m \u001b[1;34m\"ignore\"\u001b[0m\u001b[1;33m:\u001b[0m\u001b[1;33m\u001b[0m\u001b[1;33m\u001b[0m\u001b[0m\n\u001b[1;32m-> 5018\u001b[1;33m                 \u001b[1;32mraise\u001b[0m \u001b[0mKeyError\u001b[0m\u001b[1;33m(\u001b[0m\u001b[1;34mf\"{labels[mask]} not found in axis\"\u001b[0m\u001b[1;33m)\u001b[0m\u001b[1;33m\u001b[0m\u001b[1;33m\u001b[0m\u001b[0m\n\u001b[0m\u001b[0;32m   5019\u001b[0m             \u001b[0mindexer\u001b[0m \u001b[1;33m=\u001b[0m \u001b[0mindexer\u001b[0m\u001b[1;33m[\u001b[0m\u001b[1;33m~\u001b[0m\u001b[0mmask\u001b[0m\u001b[1;33m]\u001b[0m\u001b[1;33m\u001b[0m\u001b[1;33m\u001b[0m\u001b[0m\n\u001b[0;32m   5020\u001b[0m         \u001b[1;32mreturn\u001b[0m \u001b[0mself\u001b[0m\u001b[1;33m.\u001b[0m\u001b[0mdelete\u001b[0m\u001b[1;33m(\u001b[0m\u001b[0mindexer\u001b[0m\u001b[1;33m)\u001b[0m\u001b[1;33m\u001b[0m\u001b[1;33m\u001b[0m\u001b[0m\n",
      "\u001b[1;31mKeyError\u001b[0m: \"['Region' 'PostalCode'] not found in axis\""
     ]
    }
   ],
   "source": [
    "# Remove Missing Value 1\n",
    "\n",
    "tabel1.drop(['Region', 'PostalCode'], axis=1, inplace = True)"
   ]
  },
  {
   "cell_type": "code",
   "execution_count": null,
   "metadata": {},
   "outputs": [],
   "source": [
    "# Remove Missing Value 2\n",
    "\n",
    "tabel1.dropna(inplace = True)"
   ]
  },
  {
   "cell_type": "code",
   "execution_count": 32,
   "metadata": {},
   "outputs": [
    {
     "data": {
      "text/plain": [
       "CustomerID        0\n",
       "CompanyName       0\n",
       "ContactName       0\n",
       "ContactTitle      0\n",
       "City              0\n",
       "Country           0\n",
       "OrderID           0\n",
       "OrderDate         0\n",
       "RequiredDate      0\n",
       "ShippedDate       0\n",
       "Freight           0\n",
       "ProductID         0\n",
       "Quantity          0\n",
       "ProductName       0\n",
       "UnitPrice         0\n",
       "UnitsInStock      0\n",
       "UnitsOnOrder      0\n",
       "ReorderLevel      0\n",
       "Discontinued      0\n",
       "CategoryName      0\n",
       "ProcessingDate    0\n",
       "Restock           0\n",
       "dtype: int64"
      ]
     },
     "execution_count": 32,
     "metadata": {},
     "output_type": "execute_result"
    }
   ],
   "source": [
    "# Recheck Info\n",
    "\n",
    "tabel1.isnull().sum()"
   ]
  },
  {
   "cell_type": "markdown",
   "metadata": {},
   "source": [
    "## **Recheck Missing Value Information**\n",
    "\n",
    "Setelah melakukan proses drop missing value, baik itu drop terhadap features maupun row, selanjutnya adalah melakukan pengecekan terhadap data yang dimiliki untuk memastikan apakah sudah tidak ada missing value lagi. Benar saja, jika melihat data pada output di atas, sudah tidak terdapat lagi missing value sama sekali, dan pada feature ```Region``` serta ```PostalCode``` sudah tidak ada juga (karena sudah di-drop). Untuk masing-masing feature juga sudah memiliki 0 missing value yang berarti masalah missing value sudah teratasi."
   ]
  },
  {
   "cell_type": "markdown",
   "metadata": {},
   "source": [
    "## **Mengubah Tipe Data Yang Salah**\n",
    "\n",
    "Oke, telah disebutkan juga sebelumnya bahwa ada tipe data yang tidak sesuai yaitu``Freight`` dan ``UnitPrice``. Kedua features tersebut terlebih dahulu diubah agar fungsionalitasnya dapat dipakai dan tidak menyebabkan error dan features tersebut dapat dipergunakan sebagaimana mestinya."
   ]
  },
  {
   "cell_type": "code",
   "execution_count": 33,
   "metadata": {},
   "outputs": [],
   "source": [
    "# Change Spesific Column To Numeric\n",
    "\n",
    "tabel1['Freight'] = pd.to_numeric(tabel1['Freight'])\n",
    "tabel1['UnitPrice'] = tabel1['UnitPrice'].astype(float, errors = 'raise')"
   ]
  },
  {
   "cell_type": "code",
   "execution_count": 34,
   "metadata": {},
   "outputs": [
    {
     "name": "stdout",
     "output_type": "stream",
     "text": [
      "<class 'pandas.core.frame.DataFrame'>\n",
      "Int64Index: 2082 entries, 0 to 2158\n",
      "Data columns (total 22 columns):\n",
      " #   Column          Non-Null Count  Dtype          \n",
      "---  ------          --------------  -----          \n",
      " 0   CustomerID      2082 non-null   object         \n",
      " 1   CompanyName     2082 non-null   object         \n",
      " 2   ContactName     2082 non-null   object         \n",
      " 3   ContactTitle    2082 non-null   object         \n",
      " 4   City            2082 non-null   object         \n",
      " 5   Country         2082 non-null   object         \n",
      " 6   OrderID         2082 non-null   float64        \n",
      " 7   OrderDate       2082 non-null   datetime64[ns] \n",
      " 8   RequiredDate    2082 non-null   datetime64[ns] \n",
      " 9   ShippedDate     2082 non-null   datetime64[ns] \n",
      " 10  Freight         2082 non-null   float64        \n",
      " 11  ProductID       2082 non-null   float64        \n",
      " 12  Quantity        2082 non-null   float64        \n",
      " 13  ProductName     2082 non-null   object         \n",
      " 14  UnitPrice       2082 non-null   float64        \n",
      " 15  UnitsInStock    2082 non-null   float64        \n",
      " 16  UnitsOnOrder    2082 non-null   float64        \n",
      " 17  ReorderLevel    2082 non-null   float64        \n",
      " 18  Discontinued    2082 non-null   float64        \n",
      " 19  CategoryName    2082 non-null   object         \n",
      " 20  ProcessingDate  2082 non-null   timedelta64[ns]\n",
      " 21  Restock         2082 non-null   float64        \n",
      "dtypes: datetime64[ns](3), float64(10), object(8), timedelta64[ns](1)\n",
      "memory usage: 454.1+ KB\n"
     ]
    }
   ],
   "source": [
    "# Recheck Info\n",
    "\n",
    "tabel1.info()"
   ]
  },
  {
   "cell_type": "markdown",
   "metadata": {},
   "source": [
    "## **Recheck Data Information**\n",
    "\n",
    "Bagian sebelumnya, 2 features yang memiliki tipe data yang salah sudah diubah ke dalam tipe data yang seharusnya. Untuk memastikannya, output di atas merupakan informasi umum yang kembali diperlihatkan untuk memastikan tipe data yang sudah diubah tersebut. Mari fokus kedua data yang sudah disebutkan sebelumnya. \n",
    "\n",
    "Feature ``Freight`` dan ``UnitPrice`` yang awalnya bertipe data object sudah berubah menjadi float64. Dengan begini, perubahan yang dilakukan sebelumnya sudah terimplementasi dan anomali yang kedua sudah teratasi. "
   ]
  },
  {
   "cell_type": "code",
   "execution_count": 35,
   "metadata": {},
   "outputs": [
    {
     "data": {
      "text/html": [
       "<div>\n",
       "<style scoped>\n",
       "    .dataframe tbody tr th:only-of-type {\n",
       "        vertical-align: middle;\n",
       "    }\n",
       "\n",
       "    .dataframe tbody tr th {\n",
       "        vertical-align: top;\n",
       "    }\n",
       "\n",
       "    .dataframe thead th {\n",
       "        text-align: right;\n",
       "    }\n",
       "</style>\n",
       "<table border=\"1\" class=\"dataframe\">\n",
       "  <thead>\n",
       "    <tr style=\"text-align: right;\">\n",
       "      <th></th>\n",
       "      <th>CustomerID</th>\n",
       "      <th>CompanyName</th>\n",
       "      <th>ContactName</th>\n",
       "      <th>ContactTitle</th>\n",
       "      <th>City</th>\n",
       "      <th>Country</th>\n",
       "      <th>OrderID</th>\n",
       "      <th>OrderDate</th>\n",
       "      <th>RequiredDate</th>\n",
       "      <th>ShippedDate</th>\n",
       "      <th>...</th>\n",
       "      <th>Quantity</th>\n",
       "      <th>ProductName</th>\n",
       "      <th>UnitPrice</th>\n",
       "      <th>UnitsInStock</th>\n",
       "      <th>UnitsOnOrder</th>\n",
       "      <th>ReorderLevel</th>\n",
       "      <th>Discontinued</th>\n",
       "      <th>CategoryName</th>\n",
       "      <th>ProcessingDate</th>\n",
       "      <th>Restock</th>\n",
       "    </tr>\n",
       "  </thead>\n",
       "  <tbody>\n",
       "  </tbody>\n",
       "</table>\n",
       "<p>0 rows × 22 columns</p>\n",
       "</div>"
      ],
      "text/plain": [
       "Empty DataFrame\n",
       "Columns: [CustomerID, CompanyName, ContactName, ContactTitle, City, Country, OrderID, OrderDate, RequiredDate, ShippedDate, Freight, ProductID, Quantity, ProductName, UnitPrice, UnitsInStock, UnitsOnOrder, ReorderLevel, Discontinued, CategoryName, ProcessingDate, Restock]\n",
       "Index: []\n",
       "\n",
       "[0 rows x 22 columns]"
      ]
     },
     "execution_count": 35,
     "metadata": {},
     "output_type": "execute_result"
    }
   ],
   "source": [
    "# Check Dupliacate\n",
    "\n",
    "tabel1[tabel1.duplicated()]"
   ]
  },
  {
   "cell_type": "markdown",
   "metadata": {},
   "source": [
    "## **Data Duplicate**\n",
    "\n",
    "Anomali berikutnya yang bisa ditemui adalah data yang duplikat. Tentu saja data yang bersifat duplikat ini akan menjadi sesuatu hal yang akan mengganggu proses analisis data. Jika memang nantinya terdapat data yang duplikat, sebaiknya data duplikatnya dihapus dan disisakan data yang unique saja. Untuk data saat ini, melihat output di atas artinya tidak terdapat data yang duplikat. Dengan begitu tidak perlu ada action yang dilakukan."
   ]
  },
  {
   "cell_type": "markdown",
   "metadata": {},
   "source": [
    "## **Unique Value 'ProcessingDate & Restock'**\n",
    "\n",
    "Sebelumnya, saya sudah membuat kolom baru bernama ProcessingDate dan Restock saat query tabel1 sebagaimana yang sudah didefinisikan sebelumnya. mari kita cek bagaimana data tersebut. Jika melihat dari preview output sebelumnya, tidak ada keanehan. Lantas bagaimana jika kita melihat lebih dalam ke dalam feature baru ini? Berikut ini penampakan hasil yang memperlihatkan unique values beserta jumlah data di setiap unique values-nya."
   ]
  },
  {
   "cell_type": "code",
   "execution_count": 36,
   "metadata": {},
   "outputs": [
    {
     "data": {
      "text/plain": [
       "7 days 00:00:00     271\n",
       "6 days 00:00:00     241\n",
       "3 days 00:00:00     187\n",
       "9 days 00:00:00     184\n",
       "5 days 00:00:00     177\n",
       "4 days 00:00:00     176\n",
       "8 days 00:00:00     174\n",
       "2 days 00:00:00     149\n",
       "10 days 00:00:00    129\n",
       "12 days 00:00:00     45\n",
       "1 days 00:00:00      43\n",
       "11 days 00:00:00     34\n",
       "19 days 00:00:00     23\n",
       "21 days 00:00:00     20\n",
       "29 days 00:00:00     19\n",
       "18 days 00:00:00     19\n",
       "13 days 00:00:00     17\n",
       "23 days 00:00:00     15\n",
       "32 days 00:00:00     15\n",
       "34 days 22:59:59     14\n",
       "15 days 00:00:00     14\n",
       "34 days 00:00:00     13\n",
       "25 days 00:00:00     13\n",
       "20 days 00:00:00     13\n",
       "14 days 00:00:00     12\n",
       "30 days 00:00:00     11\n",
       "17 days 00:00:00     11\n",
       "22 days 00:00:00     11\n",
       "24 days 00:00:00     11\n",
       "28 days 00:00:00      8\n",
       "26 days 00:00:00      5\n",
       "27 days 00:00:00      4\n",
       "31 days 00:00:00      3\n",
       "16 days 00:00:00      1\n",
       "Name: ProcessingDate, dtype: int64"
      ]
     },
     "execution_count": 36,
     "metadata": {},
     "output_type": "execute_result"
    }
   ],
   "source": [
    "# Check Data Anomalies pada feature ProcessingDate\n",
    "\n",
    "tabel1['ProcessingDate'].value_counts()"
   ]
  },
  {
   "cell_type": "markdown",
   "metadata": {},
   "source": [
    "setelah melihat tabel diatas, terlihat bahwa tidak ada data yang menunjukkan nilai minus pada tabel ``ProcessingDate``. Maka dapat kita simpulkan bahwa data pada tabel ``ProcessingDate`` tidak memiliki anomalies di dalamnya."
   ]
  },
  {
   "cell_type": "code",
   "execution_count": 37,
   "metadata": {},
   "outputs": [
    {
     "data": {
      "text/plain": [
       " 26.0     132\n",
       " 20.0     122\n",
       " 0.0      107\n",
       " 17.0      72\n",
       " 112.0     61\n",
       "         ... \n",
       " 52.0       9\n",
       " 49.0       9\n",
       "-96.0       7\n",
       "-55.0       6\n",
       "-39.0       6\n",
       "Name: Restock, Length: 61, dtype: int64"
      ]
     },
     "execution_count": 37,
     "metadata": {},
     "output_type": "execute_result"
    }
   ],
   "source": [
    "# Check Data Anomalies pada feature Restock\n",
    "\n",
    "tabel1['Restock'].value_counts()"
   ]
  },
  {
   "cell_type": "markdown",
   "metadata": {},
   "source": [
    "## **Anomali Pada Restock**\n",
    "\n",
    "Melihat output unique values beserta dengan banyaknya data di setiap unique values tersebut, terdapat stock yang menunjukan nilai minus (-96, -55 dan -39) dan terdapat 19 data di dalamnya. Asumsinya adalah kemungkinan murni ada kesalahan input oleh user saat memasukan ke dalam database (Human Error)\n",
    "\n",
    "Dari asumsi tersebut, cara mengatasinya cukup dengan mengabaikan (dipertahankan) karena bisa dilakukan analisis lebih lanjut untuk mengetahui letak permasalahannya"
   ]
  },
  {
   "cell_type": "markdown",
   "metadata": {},
   "source": [
    "## **Preview Cleaned Data**\n",
    "\n",
    "Setelah semua anomalies sudah diselesaikan, artinya data yang dimiliki sudah bersih. Di bawah ini adalah sample data yang dianggap sudah bersih setelah melewati proses-proses sebelumnya."
   ]
  },
  {
   "cell_type": "code",
   "execution_count": 38,
   "metadata": {},
   "outputs": [
    {
     "data": {
      "text/html": [
       "<div>\n",
       "<style scoped>\n",
       "    .dataframe tbody tr th:only-of-type {\n",
       "        vertical-align: middle;\n",
       "    }\n",
       "\n",
       "    .dataframe tbody tr th {\n",
       "        vertical-align: top;\n",
       "    }\n",
       "\n",
       "    .dataframe thead th {\n",
       "        text-align: right;\n",
       "    }\n",
       "</style>\n",
       "<table border=\"1\" class=\"dataframe\">\n",
       "  <thead>\n",
       "    <tr style=\"text-align: right;\">\n",
       "      <th></th>\n",
       "      <th>CustomerID</th>\n",
       "      <th>CompanyName</th>\n",
       "      <th>ContactName</th>\n",
       "      <th>ContactTitle</th>\n",
       "      <th>City</th>\n",
       "      <th>Country</th>\n",
       "      <th>OrderID</th>\n",
       "      <th>OrderDate</th>\n",
       "      <th>RequiredDate</th>\n",
       "      <th>ShippedDate</th>\n",
       "      <th>...</th>\n",
       "      <th>Quantity</th>\n",
       "      <th>ProductName</th>\n",
       "      <th>UnitPrice</th>\n",
       "      <th>UnitsInStock</th>\n",
       "      <th>UnitsOnOrder</th>\n",
       "      <th>ReorderLevel</th>\n",
       "      <th>Discontinued</th>\n",
       "      <th>CategoryName</th>\n",
       "      <th>ProcessingDate</th>\n",
       "      <th>Restock</th>\n",
       "    </tr>\n",
       "  </thead>\n",
       "  <tbody>\n",
       "    <tr>\n",
       "      <th>1652</th>\n",
       "      <td>SAVEA</td>\n",
       "      <td>Save-a-lot Markets</td>\n",
       "      <td>Jose Pavarotti</td>\n",
       "      <td>Sales Representative</td>\n",
       "      <td>Boise</td>\n",
       "      <td>USA</td>\n",
       "      <td>10510.0</td>\n",
       "      <td>1997-04-18</td>\n",
       "      <td>1997-05-16</td>\n",
       "      <td>1997-04-28</td>\n",
       "      <td>...</td>\n",
       "      <td>36.0</td>\n",
       "      <td>Thringer Rostbratwurst</td>\n",
       "      <td>123.79</td>\n",
       "      <td>0.0</td>\n",
       "      <td>0.0</td>\n",
       "      <td>0.0</td>\n",
       "      <td>1.0</td>\n",
       "      <td>Meat/Poultry</td>\n",
       "      <td>10 days</td>\n",
       "      <td>0.0</td>\n",
       "    </tr>\n",
       "    <tr>\n",
       "      <th>859</th>\n",
       "      <td>ISLAT</td>\n",
       "      <td>Island Trading</td>\n",
       "      <td>Helen Bennett</td>\n",
       "      <td>Marketing Manager</td>\n",
       "      <td>Cowes</td>\n",
       "      <td>UK</td>\n",
       "      <td>10749.0</td>\n",
       "      <td>1997-11-20</td>\n",
       "      <td>1997-12-18</td>\n",
       "      <td>1997-12-19</td>\n",
       "      <td>...</td>\n",
       "      <td>15.0</td>\n",
       "      <td>Gnocchi di nonna Alice</td>\n",
       "      <td>38.00</td>\n",
       "      <td>21.0</td>\n",
       "      <td>10.0</td>\n",
       "      <td>30.0</td>\n",
       "      <td>0.0</td>\n",
       "      <td>Grains/Cereals</td>\n",
       "      <td>29 days</td>\n",
       "      <td>11.0</td>\n",
       "    </tr>\n",
       "    <tr>\n",
       "      <th>942</th>\n",
       "      <td>LAMAI</td>\n",
       "      <td>La maison d'Asie</td>\n",
       "      <td>Annette Roulet</td>\n",
       "      <td>Sales Manager</td>\n",
       "      <td>Toulouse</td>\n",
       "      <td>France</td>\n",
       "      <td>10787.0</td>\n",
       "      <td>1997-12-19</td>\n",
       "      <td>1998-01-02</td>\n",
       "      <td>1997-12-26</td>\n",
       "      <td>...</td>\n",
       "      <td>20.0</td>\n",
       "      <td>Thringer Rostbratwurst</td>\n",
       "      <td>123.79</td>\n",
       "      <td>0.0</td>\n",
       "      <td>0.0</td>\n",
       "      <td>0.0</td>\n",
       "      <td>1.0</td>\n",
       "      <td>Meat/Poultry</td>\n",
       "      <td>7 days</td>\n",
       "      <td>0.0</td>\n",
       "    </tr>\n",
       "    <tr>\n",
       "      <th>1820</th>\n",
       "      <td>SUPRD</td>\n",
       "      <td>Suprmes dlices</td>\n",
       "      <td>Pascale Cartrain</td>\n",
       "      <td>Accounting Manager</td>\n",
       "      <td>Charleroi</td>\n",
       "      <td>Belgium</td>\n",
       "      <td>10302.0</td>\n",
       "      <td>1996-09-10</td>\n",
       "      <td>1996-10-08</td>\n",
       "      <td>1996-10-09</td>\n",
       "      <td>...</td>\n",
       "      <td>40.0</td>\n",
       "      <td>Alice Mutton</td>\n",
       "      <td>39.00</td>\n",
       "      <td>0.0</td>\n",
       "      <td>0.0</td>\n",
       "      <td>0.0</td>\n",
       "      <td>1.0</td>\n",
       "      <td>Meat/Poultry</td>\n",
       "      <td>29 days</td>\n",
       "      <td>0.0</td>\n",
       "    </tr>\n",
       "    <tr>\n",
       "      <th>106</th>\n",
       "      <td>BERGS</td>\n",
       "      <td>Berglunds snabbkp</td>\n",
       "      <td>Christina Berglund</td>\n",
       "      <td>Order Administrator</td>\n",
       "      <td>Lule</td>\n",
       "      <td>Sweden</td>\n",
       "      <td>10837.0</td>\n",
       "      <td>1998-01-16</td>\n",
       "      <td>1998-02-13</td>\n",
       "      <td>1998-01-23</td>\n",
       "      <td>...</td>\n",
       "      <td>25.0</td>\n",
       "      <td>Boston Crab Meat</td>\n",
       "      <td>18.40</td>\n",
       "      <td>123.0</td>\n",
       "      <td>0.0</td>\n",
       "      <td>30.0</td>\n",
       "      <td>0.0</td>\n",
       "      <td>Seafood</td>\n",
       "      <td>7 days</td>\n",
       "      <td>123.0</td>\n",
       "    </tr>\n",
       "  </tbody>\n",
       "</table>\n",
       "<p>5 rows × 22 columns</p>\n",
       "</div>"
      ],
      "text/plain": [
       "     CustomerID         CompanyName         ContactName          ContactTitle  \\\n",
       "1652      SAVEA  Save-a-lot Markets      Jose Pavarotti  Sales Representative   \n",
       "859       ISLAT      Island Trading       Helen Bennett     Marketing Manager   \n",
       "942       LAMAI    La maison d'Asie      Annette Roulet         Sales Manager   \n",
       "1820      SUPRD      Suprmes dlices    Pascale Cartrain    Accounting Manager   \n",
       "106       BERGS   Berglunds snabbkp  Christina Berglund   Order Administrator   \n",
       "\n",
       "           City  Country  OrderID  OrderDate RequiredDate ShippedDate  ...  \\\n",
       "1652      Boise      USA  10510.0 1997-04-18   1997-05-16  1997-04-28  ...   \n",
       "859       Cowes       UK  10749.0 1997-11-20   1997-12-18  1997-12-19  ...   \n",
       "942    Toulouse   France  10787.0 1997-12-19   1998-01-02  1997-12-26  ...   \n",
       "1820  Charleroi  Belgium  10302.0 1996-09-10   1996-10-08  1996-10-09  ...   \n",
       "106        Lule   Sweden  10837.0 1998-01-16   1998-02-13  1998-01-23  ...   \n",
       "\n",
       "      Quantity             ProductName  UnitPrice UnitsInStock  UnitsOnOrder  \\\n",
       "1652      36.0  Thringer Rostbratwurst     123.79          0.0           0.0   \n",
       "859       15.0  Gnocchi di nonna Alice      38.00         21.0          10.0   \n",
       "942       20.0  Thringer Rostbratwurst     123.79          0.0           0.0   \n",
       "1820      40.0            Alice Mutton      39.00          0.0           0.0   \n",
       "106       25.0        Boston Crab Meat      18.40        123.0           0.0   \n",
       "\n",
       "      ReorderLevel  Discontinued    CategoryName  ProcessingDate Restock  \n",
       "1652           0.0           1.0    Meat/Poultry         10 days     0.0  \n",
       "859           30.0           0.0  Grains/Cereals         29 days    11.0  \n",
       "942            0.0           1.0    Meat/Poultry          7 days     0.0  \n",
       "1820           0.0           1.0    Meat/Poultry         29 days     0.0  \n",
       "106           30.0           0.0         Seafood          7 days   123.0  \n",
       "\n",
       "[5 rows x 22 columns]"
      ]
     },
     "execution_count": 38,
     "metadata": {},
     "output_type": "execute_result"
    }
   ],
   "source": [
    "# Clean Data\n",
    "\n",
    "tabel1.sample(5)"
   ]
  },
  {
   "cell_type": "code",
   "execution_count": 39,
   "metadata": {},
   "outputs": [
    {
     "data": {
      "text/html": [
       "<div>\n",
       "<style scoped>\n",
       "    .dataframe tbody tr th:only-of-type {\n",
       "        vertical-align: middle;\n",
       "    }\n",
       "\n",
       "    .dataframe tbody tr th {\n",
       "        vertical-align: top;\n",
       "    }\n",
       "\n",
       "    .dataframe thead tr th {\n",
       "        text-align: left;\n",
       "    }\n",
       "\n",
       "    .dataframe thead tr:last-of-type th {\n",
       "        text-align: right;\n",
       "    }\n",
       "</style>\n",
       "<table border=\"1\" class=\"dataframe\">\n",
       "  <thead>\n",
       "    <tr>\n",
       "      <th></th>\n",
       "      <th colspan=\"8\" halign=\"left\">UnitPrice</th>\n",
       "    </tr>\n",
       "    <tr>\n",
       "      <th></th>\n",
       "      <th>count</th>\n",
       "      <th>mean</th>\n",
       "      <th>std</th>\n",
       "      <th>min</th>\n",
       "      <th>25%</th>\n",
       "      <th>50%</th>\n",
       "      <th>75%</th>\n",
       "      <th>max</th>\n",
       "    </tr>\n",
       "    <tr>\n",
       "      <th>Discontinued</th>\n",
       "      <th></th>\n",
       "      <th></th>\n",
       "      <th></th>\n",
       "      <th></th>\n",
       "      <th></th>\n",
       "      <th></th>\n",
       "      <th></th>\n",
       "      <th></th>\n",
       "    </tr>\n",
       "  </thead>\n",
       "  <tbody>\n",
       "    <tr>\n",
       "      <th>0.0</th>\n",
       "      <td>1861.0</td>\n",
       "      <td>26.666926</td>\n",
       "      <td>30.823924</td>\n",
       "      <td>2.5</td>\n",
       "      <td>12.5</td>\n",
       "      <td>19.0</td>\n",
       "      <td>33.25</td>\n",
       "      <td>263.50</td>\n",
       "    </tr>\n",
       "    <tr>\n",
       "      <th>1.0</th>\n",
       "      <td>221.0</td>\n",
       "      <td>40.830226</td>\n",
       "      <td>38.656280</td>\n",
       "      <td>4.5</td>\n",
       "      <td>14.0</td>\n",
       "      <td>32.8</td>\n",
       "      <td>45.60</td>\n",
       "      <td>123.79</td>\n",
       "    </tr>\n",
       "  </tbody>\n",
       "</table>\n",
       "</div>"
      ],
      "text/plain": [
       "             UnitPrice                                                      \n",
       "                 count       mean        std  min   25%   50%    75%     max\n",
       "Discontinued                                                                \n",
       "0.0             1861.0  26.666926  30.823924  2.5  12.5  19.0  33.25  263.50\n",
       "1.0              221.0  40.830226  38.656280  4.5  14.0  32.8  45.60  123.79"
      ]
     },
     "execution_count": 39,
     "metadata": {},
     "output_type": "execute_result"
    }
   ],
   "source": [
    "# Groupping and Aggregating\n",
    "\n",
    "Aggregate = tabel1[['UnitPrice','Discontinued']].groupby('Discontinued').describe()\n",
    "Aggregate"
   ]
  },
  {
   "cell_type": "markdown",
   "metadata": {},
   "source": [
    "Terdapat sebuah feature ``Discontinued`` pada dataset. Feature ini merupakan daftar status produksi pada tabel produk. Dimana jika feature berstatus 0 maka produk tersebut masih diproduksi dan jika feature berstatus 1 maka produk tersebut sudah tidak di produksi kembali.\n",
    "\n",
    "Mari kita lihat hasil tabel dari Aggregate diatas. Dapat disimpulkan bawa secara garis besar, masih banyak kategori produk dengan sub produk tertentu yang masih di produksi oleh perusahaan dari semua total penjualan. Namun jika kita melihat ``UnitPrice``, secara rata-rata nilai beli barang pada produk yang di stop produksi (discontinued) lebih besar dibandingkan dengan yang masih diproduksi (continued) yakni 40.83 juta US Dollar. Bisa dibayangkan bahwa hanya dengan 8 produk yang discontinued dan total order produk sebanyak 221 pieces, perusahaan akan mengurangi penjualan bersih mereka sebesar 40.83 juta US Dollar (hampir 2/3 nilai dari rata-rata nilai beli barang keseluruhan)."
   ]
  },
  {
   "cell_type": "code",
   "execution_count": 40,
   "metadata": {},
   "outputs": [
    {
     "data": {
      "text/html": [
       "<div>\n",
       "<style scoped>\n",
       "    .dataframe tbody tr th:only-of-type {\n",
       "        vertical-align: middle;\n",
       "    }\n",
       "\n",
       "    .dataframe tbody tr th {\n",
       "        vertical-align: top;\n",
       "    }\n",
       "\n",
       "    .dataframe thead th {\n",
       "        text-align: right;\n",
       "    }\n",
       "</style>\n",
       "<table border=\"1\" class=\"dataframe\">\n",
       "  <thead>\n",
       "    <tr style=\"text-align: right;\">\n",
       "      <th></th>\n",
       "      <th>ProductID</th>\n",
       "      <th>UnitsInStock</th>\n",
       "      <th>UnitsOnOrder</th>\n",
       "      <th>ReorderLevel</th>\n",
       "      <th>Discontinued</th>\n",
       "    </tr>\n",
       "  </thead>\n",
       "  <tbody>\n",
       "    <tr>\n",
       "      <th>0</th>\n",
       "      <td>5</td>\n",
       "      <td>0</td>\n",
       "      <td>0</td>\n",
       "      <td>0</td>\n",
       "      <td>1</td>\n",
       "    </tr>\n",
       "    <tr>\n",
       "      <th>1</th>\n",
       "      <td>9</td>\n",
       "      <td>29</td>\n",
       "      <td>0</td>\n",
       "      <td>0</td>\n",
       "      <td>1</td>\n",
       "    </tr>\n",
       "    <tr>\n",
       "      <th>2</th>\n",
       "      <td>17</td>\n",
       "      <td>0</td>\n",
       "      <td>0</td>\n",
       "      <td>0</td>\n",
       "      <td>1</td>\n",
       "    </tr>\n",
       "    <tr>\n",
       "      <th>3</th>\n",
       "      <td>24</td>\n",
       "      <td>20</td>\n",
       "      <td>0</td>\n",
       "      <td>0</td>\n",
       "      <td>1</td>\n",
       "    </tr>\n",
       "    <tr>\n",
       "      <th>4</th>\n",
       "      <td>28</td>\n",
       "      <td>26</td>\n",
       "      <td>0</td>\n",
       "      <td>0</td>\n",
       "      <td>1</td>\n",
       "    </tr>\n",
       "    <tr>\n",
       "      <th>5</th>\n",
       "      <td>29</td>\n",
       "      <td>0</td>\n",
       "      <td>0</td>\n",
       "      <td>0</td>\n",
       "      <td>1</td>\n",
       "    </tr>\n",
       "    <tr>\n",
       "      <th>6</th>\n",
       "      <td>42</td>\n",
       "      <td>26</td>\n",
       "      <td>0</td>\n",
       "      <td>0</td>\n",
       "      <td>1</td>\n",
       "    </tr>\n",
       "    <tr>\n",
       "      <th>7</th>\n",
       "      <td>53</td>\n",
       "      <td>0</td>\n",
       "      <td>0</td>\n",
       "      <td>0</td>\n",
       "      <td>1</td>\n",
       "    </tr>\n",
       "  </tbody>\n",
       "</table>\n",
       "</div>"
      ],
      "text/plain": [
       "   ProductID  UnitsInStock  UnitsOnOrder  ReorderLevel  Discontinued\n",
       "0          5             0             0             0             1\n",
       "1          9            29             0             0             1\n",
       "2         17             0             0             0             1\n",
       "3         24            20             0             0             1\n",
       "4         28            26             0             0             1\n",
       "5         29             0             0             0             1\n",
       "6         42            26             0             0             1\n",
       "7         53             0             0             0             1"
      ]
     },
     "execution_count": 40,
     "metadata": {},
     "output_type": "execute_result"
    }
   ],
   "source": [
    "# Mencari Alasan\n",
    "\n",
    "tabel3 = sql_table(\n",
    "    '''\n",
    "    select ProductID, UnitsInStock, UnitsOnOrder, ReorderLevel, Discontinued\n",
    "    from products\n",
    "    where Discontinued = 1.0\n",
    "    '''\n",
    ")\n",
    "tabel3"
   ]
  },
  {
   "cell_type": "markdown",
   "metadata": {},
   "source": [
    "Walaupun secara aggregate rata-rata nilai beli barang pada produk yang di stop produksi (discontinued) lebih besar dibandingkan dengan yang masih diproduksi (continued), kita dapat mengetahui kenapa 8 produk tersebut di discontinued (lihat tabel3).\n",
    "Pada tabel3, kita dapat mengambil kesimpulan bahwa 8 produk tersebut di discontinued dikarenakan sudah tidak adanya lagi customers yang melakukan reorder (``ReorderLevel``) bahkan sedang melakukan order (``UnitsOnOrder``) dan stock unitnya (``UnitsInStock``) pun kebanyakan kosong atau menipis. Kemungkinan besar perusahaan melakukan discontinued pada produk ini for good reason."
   ]
  },
  {
   "cell_type": "code",
   "execution_count": 41,
   "metadata": {},
   "outputs": [],
   "source": [
    "#Tabel tambahan untuk analisa lebih lanjut (pie chart)\n",
    "\n",
    "tabel4 = sql_table(\n",
    "    '''\n",
    "    select ProductID, UnitsInStock, UnitsOnOrder, ReorderLevel, Discontinued\n",
    "    from products\n",
    "    '''\n",
    ")"
   ]
  },
  {
   "cell_type": "markdown",
   "metadata": {},
   "source": [
    "## **Melihat Data Outlier pada feature ``UnitsInStock``**\n"
   ]
  },
  {
   "cell_type": "code",
   "execution_count": 42,
   "metadata": {},
   "outputs": [
    {
     "data": {
      "text/html": [
       "<div>\n",
       "<style scoped>\n",
       "    .dataframe tbody tr th:only-of-type {\n",
       "        vertical-align: middle;\n",
       "    }\n",
       "\n",
       "    .dataframe tbody tr th {\n",
       "        vertical-align: top;\n",
       "    }\n",
       "\n",
       "    .dataframe thead th {\n",
       "        text-align: right;\n",
       "    }\n",
       "</style>\n",
       "<table border=\"1\" class=\"dataframe\">\n",
       "  <thead>\n",
       "    <tr style=\"text-align: right;\">\n",
       "      <th></th>\n",
       "      <th>CustomerID</th>\n",
       "      <th>CompanyName</th>\n",
       "      <th>ContactName</th>\n",
       "      <th>ContactTitle</th>\n",
       "      <th>City</th>\n",
       "      <th>Country</th>\n",
       "      <th>OrderID</th>\n",
       "      <th>OrderDate</th>\n",
       "      <th>RequiredDate</th>\n",
       "      <th>ShippedDate</th>\n",
       "      <th>...</th>\n",
       "      <th>Quantity</th>\n",
       "      <th>ProductName</th>\n",
       "      <th>UnitPrice</th>\n",
       "      <th>UnitsInStock</th>\n",
       "      <th>UnitsOnOrder</th>\n",
       "      <th>ReorderLevel</th>\n",
       "      <th>Discontinued</th>\n",
       "      <th>CategoryName</th>\n",
       "      <th>ProcessingDate</th>\n",
       "      <th>Restock</th>\n",
       "    </tr>\n",
       "  </thead>\n",
       "  <tbody>\n",
       "    <tr>\n",
       "      <th>8</th>\n",
       "      <td>ALFKI</td>\n",
       "      <td>Alfreds Futterkiste</td>\n",
       "      <td>Maria Anders</td>\n",
       "      <td>Sales Representative</td>\n",
       "      <td>Berlin</td>\n",
       "      <td>Germany</td>\n",
       "      <td>10952.0</td>\n",
       "      <td>1998-03-16</td>\n",
       "      <td>1998-04-27</td>\n",
       "      <td>1998-03-24</td>\n",
       "      <td>...</td>\n",
       "      <td>16.0</td>\n",
       "      <td>Grandma's Boysenberry Spread</td>\n",
       "      <td>25.00</td>\n",
       "      <td>120.0</td>\n",
       "      <td>0.0</td>\n",
       "      <td>25.0</td>\n",
       "      <td>0.0</td>\n",
       "      <td>Condiments</td>\n",
       "      <td>8 days</td>\n",
       "      <td>120.0</td>\n",
       "    </tr>\n",
       "    <tr>\n",
       "      <th>26</th>\n",
       "      <td>ANTON</td>\n",
       "      <td>Antonio Moreno Taquera</td>\n",
       "      <td>Antonio Moreno</td>\n",
       "      <td>Owner</td>\n",
       "      <td>Mxico D.F.</td>\n",
       "      <td>Mexico</td>\n",
       "      <td>10535.0</td>\n",
       "      <td>1997-05-13</td>\n",
       "      <td>1997-06-10</td>\n",
       "      <td>1997-05-21</td>\n",
       "      <td>...</td>\n",
       "      <td>10.0</td>\n",
       "      <td>Boston Crab Meat</td>\n",
       "      <td>18.40</td>\n",
       "      <td>123.0</td>\n",
       "      <td>0.0</td>\n",
       "      <td>30.0</td>\n",
       "      <td>0.0</td>\n",
       "      <td>Seafood</td>\n",
       "      <td>8 days</td>\n",
       "      <td>123.0</td>\n",
       "    </tr>\n",
       "    <tr>\n",
       "      <th>36</th>\n",
       "      <td>ANTON</td>\n",
       "      <td>Antonio Moreno Taquera</td>\n",
       "      <td>Antonio Moreno</td>\n",
       "      <td>Owner</td>\n",
       "      <td>Mxico D.F.</td>\n",
       "      <td>Mexico</td>\n",
       "      <td>10682.0</td>\n",
       "      <td>1997-09-25</td>\n",
       "      <td>1997-10-23</td>\n",
       "      <td>1997-10-01</td>\n",
       "      <td>...</td>\n",
       "      <td>30.0</td>\n",
       "      <td>Rhnbru Klosterbier</td>\n",
       "      <td>7.75</td>\n",
       "      <td>125.0</td>\n",
       "      <td>0.0</td>\n",
       "      <td>25.0</td>\n",
       "      <td>0.0</td>\n",
       "      <td>Beverages</td>\n",
       "      <td>6 days</td>\n",
       "      <td>125.0</td>\n",
       "    </tr>\n",
       "    <tr>\n",
       "      <th>75</th>\n",
       "      <td>BERGS</td>\n",
       "      <td>Berglunds snabbkp</td>\n",
       "      <td>Christina Berglund</td>\n",
       "      <td>Order Administrator</td>\n",
       "      <td>Lule</td>\n",
       "      <td>Sweden</td>\n",
       "      <td>10280.0</td>\n",
       "      <td>1996-08-14</td>\n",
       "      <td>1996-09-11</td>\n",
       "      <td>1996-09-12</td>\n",
       "      <td>...</td>\n",
       "      <td>30.0</td>\n",
       "      <td>Rhnbru Klosterbier</td>\n",
       "      <td>7.75</td>\n",
       "      <td>125.0</td>\n",
       "      <td>0.0</td>\n",
       "      <td>25.0</td>\n",
       "      <td>0.0</td>\n",
       "      <td>Beverages</td>\n",
       "      <td>29 days</td>\n",
       "      <td>125.0</td>\n",
       "    </tr>\n",
       "    <tr>\n",
       "      <th>90</th>\n",
       "      <td>BERGS</td>\n",
       "      <td>Berglunds snabbkp</td>\n",
       "      <td>Christina Berglund</td>\n",
       "      <td>Order Administrator</td>\n",
       "      <td>Lule</td>\n",
       "      <td>Sweden</td>\n",
       "      <td>10572.0</td>\n",
       "      <td>1997-06-18</td>\n",
       "      <td>1997-07-16</td>\n",
       "      <td>1997-06-25</td>\n",
       "      <td>...</td>\n",
       "      <td>50.0</td>\n",
       "      <td>Boston Crab Meat</td>\n",
       "      <td>18.40</td>\n",
       "      <td>123.0</td>\n",
       "      <td>0.0</td>\n",
       "      <td>30.0</td>\n",
       "      <td>0.0</td>\n",
       "      <td>Seafood</td>\n",
       "      <td>7 days</td>\n",
       "      <td>123.0</td>\n",
       "    </tr>\n",
       "    <tr>\n",
       "      <th>...</th>\n",
       "      <td>...</td>\n",
       "      <td>...</td>\n",
       "      <td>...</td>\n",
       "      <td>...</td>\n",
       "      <td>...</td>\n",
       "      <td>...</td>\n",
       "      <td>...</td>\n",
       "      <td>...</td>\n",
       "      <td>...</td>\n",
       "      <td>...</td>\n",
       "      <td>...</td>\n",
       "      <td>...</td>\n",
       "      <td>...</td>\n",
       "      <td>...</td>\n",
       "      <td>...</td>\n",
       "      <td>...</td>\n",
       "      <td>...</td>\n",
       "      <td>...</td>\n",
       "      <td>...</td>\n",
       "      <td>...</td>\n",
       "      <td>...</td>\n",
       "    </tr>\n",
       "    <tr>\n",
       "      <th>2004</th>\n",
       "      <td>WANDK</td>\n",
       "      <td>Die Wandernde Kuh</td>\n",
       "      <td>Rita Mller</td>\n",
       "      <td>Sales Representative</td>\n",
       "      <td>Stuttgart</td>\n",
       "      <td>Germany</td>\n",
       "      <td>10301.0</td>\n",
       "      <td>1996-09-09</td>\n",
       "      <td>1996-10-07</td>\n",
       "      <td>1996-09-17</td>\n",
       "      <td>...</td>\n",
       "      <td>10.0</td>\n",
       "      <td>Boston Crab Meat</td>\n",
       "      <td>18.40</td>\n",
       "      <td>123.0</td>\n",
       "      <td>0.0</td>\n",
       "      <td>30.0</td>\n",
       "      <td>0.0</td>\n",
       "      <td>Seafood</td>\n",
       "      <td>8 days</td>\n",
       "      <td>123.0</td>\n",
       "    </tr>\n",
       "    <tr>\n",
       "      <th>2009</th>\n",
       "      <td>WANDK</td>\n",
       "      <td>Die Wandernde Kuh</td>\n",
       "      <td>Rita Mller</td>\n",
       "      <td>Sales Representative</td>\n",
       "      <td>Stuttgart</td>\n",
       "      <td>Germany</td>\n",
       "      <td>10312.0</td>\n",
       "      <td>1996-09-23</td>\n",
       "      <td>1996-10-21</td>\n",
       "      <td>1996-10-03</td>\n",
       "      <td>...</td>\n",
       "      <td>10.0</td>\n",
       "      <td>Rhnbru Klosterbier</td>\n",
       "      <td>7.75</td>\n",
       "      <td>125.0</td>\n",
       "      <td>0.0</td>\n",
       "      <td>25.0</td>\n",
       "      <td>0.0</td>\n",
       "      <td>Beverages</td>\n",
       "      <td>10 days</td>\n",
       "      <td>125.0</td>\n",
       "    </tr>\n",
       "    <tr>\n",
       "      <th>2101</th>\n",
       "      <td>WHITC</td>\n",
       "      <td>White Clover Markets</td>\n",
       "      <td>Karl Jablonski</td>\n",
       "      <td>Owner</td>\n",
       "      <td>Seattle</td>\n",
       "      <td>USA</td>\n",
       "      <td>10596.0</td>\n",
       "      <td>1997-07-11</td>\n",
       "      <td>1997-08-08</td>\n",
       "      <td>1997-08-12</td>\n",
       "      <td>...</td>\n",
       "      <td>30.0</td>\n",
       "      <td>Rhnbru Klosterbier</td>\n",
       "      <td>7.75</td>\n",
       "      <td>125.0</td>\n",
       "      <td>0.0</td>\n",
       "      <td>25.0</td>\n",
       "      <td>0.0</td>\n",
       "      <td>Beverages</td>\n",
       "      <td>32 days</td>\n",
       "      <td>125.0</td>\n",
       "    </tr>\n",
       "    <tr>\n",
       "      <th>2135</th>\n",
       "      <td>WILMK</td>\n",
       "      <td>Wilman Kala</td>\n",
       "      <td>Matti Karttunen</td>\n",
       "      <td>Owner/Marketing Assistant</td>\n",
       "      <td>Helsinki</td>\n",
       "      <td>Finland</td>\n",
       "      <td>10879.0</td>\n",
       "      <td>1998-02-10</td>\n",
       "      <td>1998-03-10</td>\n",
       "      <td>1998-02-12</td>\n",
       "      <td>...</td>\n",
       "      <td>12.0</td>\n",
       "      <td>Boston Crab Meat</td>\n",
       "      <td>18.40</td>\n",
       "      <td>123.0</td>\n",
       "      <td>0.0</td>\n",
       "      <td>30.0</td>\n",
       "      <td>0.0</td>\n",
       "      <td>Seafood</td>\n",
       "      <td>2 days</td>\n",
       "      <td>123.0</td>\n",
       "    </tr>\n",
       "    <tr>\n",
       "      <th>2157</th>\n",
       "      <td>WOLZA</td>\n",
       "      <td>Wolski  Zajazd</td>\n",
       "      <td>Zbyszek Piestrzeniewicz</td>\n",
       "      <td>Owner</td>\n",
       "      <td>Warszawa</td>\n",
       "      <td>Poland</td>\n",
       "      <td>10998.0</td>\n",
       "      <td>1998-04-03</td>\n",
       "      <td>1998-04-17</td>\n",
       "      <td>1998-04-17</td>\n",
       "      <td>...</td>\n",
       "      <td>30.0</td>\n",
       "      <td>Rhnbru Klosterbier</td>\n",
       "      <td>7.75</td>\n",
       "      <td>125.0</td>\n",
       "      <td>0.0</td>\n",
       "      <td>25.0</td>\n",
       "      <td>0.0</td>\n",
       "      <td>Beverages</td>\n",
       "      <td>14 days</td>\n",
       "      <td>125.0</td>\n",
       "    </tr>\n",
       "  </tbody>\n",
       "</table>\n",
       "<p>96 rows × 22 columns</p>\n",
       "</div>"
      ],
      "text/plain": [
       "     CustomerID             CompanyName              ContactName  \\\n",
       "8         ALFKI     Alfreds Futterkiste             Maria Anders   \n",
       "26        ANTON  Antonio Moreno Taquera           Antonio Moreno   \n",
       "36        ANTON  Antonio Moreno Taquera           Antonio Moreno   \n",
       "75        BERGS       Berglunds snabbkp       Christina Berglund   \n",
       "90        BERGS       Berglunds snabbkp       Christina Berglund   \n",
       "...         ...                     ...                      ...   \n",
       "2004      WANDK       Die Wandernde Kuh               Rita Mller   \n",
       "2009      WANDK       Die Wandernde Kuh               Rita Mller   \n",
       "2101      WHITC    White Clover Markets           Karl Jablonski   \n",
       "2135      WILMK             Wilman Kala          Matti Karttunen   \n",
       "2157      WOLZA          Wolski  Zajazd  Zbyszek Piestrzeniewicz   \n",
       "\n",
       "                   ContactTitle        City  Country  OrderID  OrderDate  \\\n",
       "8          Sales Representative      Berlin  Germany  10952.0 1998-03-16   \n",
       "26                        Owner  Mxico D.F.   Mexico  10535.0 1997-05-13   \n",
       "36                        Owner  Mxico D.F.   Mexico  10682.0 1997-09-25   \n",
       "75          Order Administrator        Lule   Sweden  10280.0 1996-08-14   \n",
       "90          Order Administrator        Lule   Sweden  10572.0 1997-06-18   \n",
       "...                         ...         ...      ...      ...        ...   \n",
       "2004       Sales Representative   Stuttgart  Germany  10301.0 1996-09-09   \n",
       "2009       Sales Representative   Stuttgart  Germany  10312.0 1996-09-23   \n",
       "2101                      Owner     Seattle      USA  10596.0 1997-07-11   \n",
       "2135  Owner/Marketing Assistant    Helsinki  Finland  10879.0 1998-02-10   \n",
       "2157                      Owner    Warszawa   Poland  10998.0 1998-04-03   \n",
       "\n",
       "     RequiredDate ShippedDate  ...  Quantity                   ProductName  \\\n",
       "8      1998-04-27  1998-03-24  ...      16.0  Grandma's Boysenberry Spread   \n",
       "26     1997-06-10  1997-05-21  ...      10.0              Boston Crab Meat   \n",
       "36     1997-10-23  1997-10-01  ...      30.0            Rhnbru Klosterbier   \n",
       "75     1996-09-11  1996-09-12  ...      30.0            Rhnbru Klosterbier   \n",
       "90     1997-07-16  1997-06-25  ...      50.0              Boston Crab Meat   \n",
       "...           ...         ...  ...       ...                           ...   \n",
       "2004   1996-10-07  1996-09-17  ...      10.0              Boston Crab Meat   \n",
       "2009   1996-10-21  1996-10-03  ...      10.0            Rhnbru Klosterbier   \n",
       "2101   1997-08-08  1997-08-12  ...      30.0            Rhnbru Klosterbier   \n",
       "2135   1998-03-10  1998-02-12  ...      12.0              Boston Crab Meat   \n",
       "2157   1998-04-17  1998-04-17  ...      30.0            Rhnbru Klosterbier   \n",
       "\n",
       "      UnitPrice UnitsInStock  UnitsOnOrder  ReorderLevel  Discontinued  \\\n",
       "8         25.00        120.0           0.0          25.0           0.0   \n",
       "26        18.40        123.0           0.0          30.0           0.0   \n",
       "36         7.75        125.0           0.0          25.0           0.0   \n",
       "75         7.75        125.0           0.0          25.0           0.0   \n",
       "90        18.40        123.0           0.0          30.0           0.0   \n",
       "...         ...          ...           ...           ...           ...   \n",
       "2004      18.40        123.0           0.0          30.0           0.0   \n",
       "2009       7.75        125.0           0.0          25.0           0.0   \n",
       "2101       7.75        125.0           0.0          25.0           0.0   \n",
       "2135      18.40        123.0           0.0          30.0           0.0   \n",
       "2157       7.75        125.0           0.0          25.0           0.0   \n",
       "\n",
       "      CategoryName  ProcessingDate Restock  \n",
       "8       Condiments          8 days   120.0  \n",
       "26         Seafood          8 days   123.0  \n",
       "36       Beverages          6 days   125.0  \n",
       "75       Beverages         29 days   125.0  \n",
       "90         Seafood          7 days   123.0  \n",
       "...            ...             ...     ...  \n",
       "2004       Seafood          8 days   123.0  \n",
       "2009     Beverages         10 days   125.0  \n",
       "2101     Beverages         32 days   125.0  \n",
       "2135       Seafood          2 days   123.0  \n",
       "2157     Beverages         14 days   125.0  \n",
       "\n",
       "[96 rows x 22 columns]"
      ]
     },
     "execution_count": 42,
     "metadata": {},
     "output_type": "execute_result"
    }
   ],
   "source": [
    "# Outlier Check With Function\n",
    "\n",
    "Q1_amount = tabel1['UnitsInStock'].describe()['25%']\n",
    "Q3_amount = tabel1['UnitsInStock'].describe()['75%']\n",
    "iqr = Q3_amount - Q1_amount\n",
    "\n",
    "outlier_index = tabel1[(tabel1['UnitsInStock'] < Q1_amount - (1.5 * iqr)) | (tabel1['UnitsInStock']> Q3_amount + (1.5 * iqr)) ].index\n",
    "not_outlier_index = tabel1[(tabel1['UnitsInStock'] > Q1_amount - (1.5 * iqr)) & (tabel1['UnitsInStock']< Q3_amount + (1.5 * iqr)) ].index\n",
    "tabel1.loc[outlier_index]"
   ]
  },
  {
   "cell_type": "markdown",
   "metadata": {},
   "source": [
    "# **DATA VISUALIZATION & STATISTICS**"
   ]
  },
  {
   "cell_type": "markdown",
   "metadata": {},
   "source": [
    "## **Top 5 Loyal Costumer**"
   ]
  },
  {
   "cell_type": "markdown",
   "metadata": {},
   "source": [
    "Setelah mendapatkan data yang sudah 'bersih' dan siap untuk digunakan, masuklah kita ke bagian analisis data dengan menggunakan visual sebagai medianya. Di sini, kita akan melakukan visualisasi data untuk mendapatkan beberapa insight yang kemudian dapat menjadi landasan dalam pengambilan keputusan dan penyusunan strategi yang kuat untuk mendapatkan profit yang sebesar-besarnya dengan kerugian yang minim."
   ]
  },
  {
   "cell_type": "code",
   "execution_count": 43,
   "metadata": {},
   "outputs": [],
   "source": [
    "import plotly.express as px\n",
    "import matplotlib.pyplot as plt\n",
    "import seaborn as sns"
   ]
  },
  {
   "cell_type": "code",
   "execution_count": 44,
   "metadata": {},
   "outputs": [
    {
     "data": {
      "application/vnd.plotly.v1+json": {
       "config": {
        "plotlyServerURL": "https://plot.ly"
       },
       "data": [
        {
         "alignmentgroup": "True",
         "hovertemplate": "variable=CompanyName<br>index=%{x}<br>value=%{y}<extra></extra>",
         "legendgroup": "CompanyName",
         "marker": {
          "color": "#636efa",
          "pattern": {
           "shape": ""
          }
         },
         "name": "CompanyName",
         "offsetgroup": "CompanyName",
         "orientation": "v",
         "showlegend": true,
         "textposition": "auto",
         "type": "bar",
         "x": [
          "Save-a-lot Markets",
          "Ernst Handel",
          "QUICK-Stop",
          "Hungry Owl All-Night Grocers",
          "Berglunds snabbkp"
         ],
         "xaxis": "x",
         "y": [
          116,
          95,
          86,
          55,
          52
         ],
         "yaxis": "y"
        }
       ],
       "layout": {
        "barmode": "relative",
        "legend": {
         "title": {
          "text": "variable"
         },
         "tracegroupgap": 0
        },
        "template": {
         "data": {
          "bar": [
           {
            "error_x": {
             "color": "#2a3f5f"
            },
            "error_y": {
             "color": "#2a3f5f"
            },
            "marker": {
             "line": {
              "color": "#E5ECF6",
              "width": 0.5
             },
             "pattern": {
              "fillmode": "overlay",
              "size": 10,
              "solidity": 0.2
             }
            },
            "type": "bar"
           }
          ],
          "barpolar": [
           {
            "marker": {
             "line": {
              "color": "#E5ECF6",
              "width": 0.5
             },
             "pattern": {
              "fillmode": "overlay",
              "size": 10,
              "solidity": 0.2
             }
            },
            "type": "barpolar"
           }
          ],
          "carpet": [
           {
            "aaxis": {
             "endlinecolor": "#2a3f5f",
             "gridcolor": "white",
             "linecolor": "white",
             "minorgridcolor": "white",
             "startlinecolor": "#2a3f5f"
            },
            "baxis": {
             "endlinecolor": "#2a3f5f",
             "gridcolor": "white",
             "linecolor": "white",
             "minorgridcolor": "white",
             "startlinecolor": "#2a3f5f"
            },
            "type": "carpet"
           }
          ],
          "choropleth": [
           {
            "colorbar": {
             "outlinewidth": 0,
             "ticks": ""
            },
            "type": "choropleth"
           }
          ],
          "contour": [
           {
            "colorbar": {
             "outlinewidth": 0,
             "ticks": ""
            },
            "colorscale": [
             [
              0,
              "#0d0887"
             ],
             [
              0.1111111111111111,
              "#46039f"
             ],
             [
              0.2222222222222222,
              "#7201a8"
             ],
             [
              0.3333333333333333,
              "#9c179e"
             ],
             [
              0.4444444444444444,
              "#bd3786"
             ],
             [
              0.5555555555555556,
              "#d8576b"
             ],
             [
              0.6666666666666666,
              "#ed7953"
             ],
             [
              0.7777777777777778,
              "#fb9f3a"
             ],
             [
              0.8888888888888888,
              "#fdca26"
             ],
             [
              1,
              "#f0f921"
             ]
            ],
            "type": "contour"
           }
          ],
          "contourcarpet": [
           {
            "colorbar": {
             "outlinewidth": 0,
             "ticks": ""
            },
            "type": "contourcarpet"
           }
          ],
          "heatmap": [
           {
            "colorbar": {
             "outlinewidth": 0,
             "ticks": ""
            },
            "colorscale": [
             [
              0,
              "#0d0887"
             ],
             [
              0.1111111111111111,
              "#46039f"
             ],
             [
              0.2222222222222222,
              "#7201a8"
             ],
             [
              0.3333333333333333,
              "#9c179e"
             ],
             [
              0.4444444444444444,
              "#bd3786"
             ],
             [
              0.5555555555555556,
              "#d8576b"
             ],
             [
              0.6666666666666666,
              "#ed7953"
             ],
             [
              0.7777777777777778,
              "#fb9f3a"
             ],
             [
              0.8888888888888888,
              "#fdca26"
             ],
             [
              1,
              "#f0f921"
             ]
            ],
            "type": "heatmap"
           }
          ],
          "heatmapgl": [
           {
            "colorbar": {
             "outlinewidth": 0,
             "ticks": ""
            },
            "colorscale": [
             [
              0,
              "#0d0887"
             ],
             [
              0.1111111111111111,
              "#46039f"
             ],
             [
              0.2222222222222222,
              "#7201a8"
             ],
             [
              0.3333333333333333,
              "#9c179e"
             ],
             [
              0.4444444444444444,
              "#bd3786"
             ],
             [
              0.5555555555555556,
              "#d8576b"
             ],
             [
              0.6666666666666666,
              "#ed7953"
             ],
             [
              0.7777777777777778,
              "#fb9f3a"
             ],
             [
              0.8888888888888888,
              "#fdca26"
             ],
             [
              1,
              "#f0f921"
             ]
            ],
            "type": "heatmapgl"
           }
          ],
          "histogram": [
           {
            "marker": {
             "pattern": {
              "fillmode": "overlay",
              "size": 10,
              "solidity": 0.2
             }
            },
            "type": "histogram"
           }
          ],
          "histogram2d": [
           {
            "colorbar": {
             "outlinewidth": 0,
             "ticks": ""
            },
            "colorscale": [
             [
              0,
              "#0d0887"
             ],
             [
              0.1111111111111111,
              "#46039f"
             ],
             [
              0.2222222222222222,
              "#7201a8"
             ],
             [
              0.3333333333333333,
              "#9c179e"
             ],
             [
              0.4444444444444444,
              "#bd3786"
             ],
             [
              0.5555555555555556,
              "#d8576b"
             ],
             [
              0.6666666666666666,
              "#ed7953"
             ],
             [
              0.7777777777777778,
              "#fb9f3a"
             ],
             [
              0.8888888888888888,
              "#fdca26"
             ],
             [
              1,
              "#f0f921"
             ]
            ],
            "type": "histogram2d"
           }
          ],
          "histogram2dcontour": [
           {
            "colorbar": {
             "outlinewidth": 0,
             "ticks": ""
            },
            "colorscale": [
             [
              0,
              "#0d0887"
             ],
             [
              0.1111111111111111,
              "#46039f"
             ],
             [
              0.2222222222222222,
              "#7201a8"
             ],
             [
              0.3333333333333333,
              "#9c179e"
             ],
             [
              0.4444444444444444,
              "#bd3786"
             ],
             [
              0.5555555555555556,
              "#d8576b"
             ],
             [
              0.6666666666666666,
              "#ed7953"
             ],
             [
              0.7777777777777778,
              "#fb9f3a"
             ],
             [
              0.8888888888888888,
              "#fdca26"
             ],
             [
              1,
              "#f0f921"
             ]
            ],
            "type": "histogram2dcontour"
           }
          ],
          "mesh3d": [
           {
            "colorbar": {
             "outlinewidth": 0,
             "ticks": ""
            },
            "type": "mesh3d"
           }
          ],
          "parcoords": [
           {
            "line": {
             "colorbar": {
              "outlinewidth": 0,
              "ticks": ""
             }
            },
            "type": "parcoords"
           }
          ],
          "pie": [
           {
            "automargin": true,
            "type": "pie"
           }
          ],
          "scatter": [
           {
            "marker": {
             "colorbar": {
              "outlinewidth": 0,
              "ticks": ""
             }
            },
            "type": "scatter"
           }
          ],
          "scatter3d": [
           {
            "line": {
             "colorbar": {
              "outlinewidth": 0,
              "ticks": ""
             }
            },
            "marker": {
             "colorbar": {
              "outlinewidth": 0,
              "ticks": ""
             }
            },
            "type": "scatter3d"
           }
          ],
          "scattercarpet": [
           {
            "marker": {
             "colorbar": {
              "outlinewidth": 0,
              "ticks": ""
             }
            },
            "type": "scattercarpet"
           }
          ],
          "scattergeo": [
           {
            "marker": {
             "colorbar": {
              "outlinewidth": 0,
              "ticks": ""
             }
            },
            "type": "scattergeo"
           }
          ],
          "scattergl": [
           {
            "marker": {
             "colorbar": {
              "outlinewidth": 0,
              "ticks": ""
             }
            },
            "type": "scattergl"
           }
          ],
          "scattermapbox": [
           {
            "marker": {
             "colorbar": {
              "outlinewidth": 0,
              "ticks": ""
             }
            },
            "type": "scattermapbox"
           }
          ],
          "scatterpolar": [
           {
            "marker": {
             "colorbar": {
              "outlinewidth": 0,
              "ticks": ""
             }
            },
            "type": "scatterpolar"
           }
          ],
          "scatterpolargl": [
           {
            "marker": {
             "colorbar": {
              "outlinewidth": 0,
              "ticks": ""
             }
            },
            "type": "scatterpolargl"
           }
          ],
          "scatterternary": [
           {
            "marker": {
             "colorbar": {
              "outlinewidth": 0,
              "ticks": ""
             }
            },
            "type": "scatterternary"
           }
          ],
          "surface": [
           {
            "colorbar": {
             "outlinewidth": 0,
             "ticks": ""
            },
            "colorscale": [
             [
              0,
              "#0d0887"
             ],
             [
              0.1111111111111111,
              "#46039f"
             ],
             [
              0.2222222222222222,
              "#7201a8"
             ],
             [
              0.3333333333333333,
              "#9c179e"
             ],
             [
              0.4444444444444444,
              "#bd3786"
             ],
             [
              0.5555555555555556,
              "#d8576b"
             ],
             [
              0.6666666666666666,
              "#ed7953"
             ],
             [
              0.7777777777777778,
              "#fb9f3a"
             ],
             [
              0.8888888888888888,
              "#fdca26"
             ],
             [
              1,
              "#f0f921"
             ]
            ],
            "type": "surface"
           }
          ],
          "table": [
           {
            "cells": {
             "fill": {
              "color": "#EBF0F8"
             },
             "line": {
              "color": "white"
             }
            },
            "header": {
             "fill": {
              "color": "#C8D4E3"
             },
             "line": {
              "color": "white"
             }
            },
            "type": "table"
           }
          ]
         },
         "layout": {
          "annotationdefaults": {
           "arrowcolor": "#2a3f5f",
           "arrowhead": 0,
           "arrowwidth": 1
          },
          "autotypenumbers": "strict",
          "coloraxis": {
           "colorbar": {
            "outlinewidth": 0,
            "ticks": ""
           }
          },
          "colorscale": {
           "diverging": [
            [
             0,
             "#8e0152"
            ],
            [
             0.1,
             "#c51b7d"
            ],
            [
             0.2,
             "#de77ae"
            ],
            [
             0.3,
             "#f1b6da"
            ],
            [
             0.4,
             "#fde0ef"
            ],
            [
             0.5,
             "#f7f7f7"
            ],
            [
             0.6,
             "#e6f5d0"
            ],
            [
             0.7,
             "#b8e186"
            ],
            [
             0.8,
             "#7fbc41"
            ],
            [
             0.9,
             "#4d9221"
            ],
            [
             1,
             "#276419"
            ]
           ],
           "sequential": [
            [
             0,
             "#0d0887"
            ],
            [
             0.1111111111111111,
             "#46039f"
            ],
            [
             0.2222222222222222,
             "#7201a8"
            ],
            [
             0.3333333333333333,
             "#9c179e"
            ],
            [
             0.4444444444444444,
             "#bd3786"
            ],
            [
             0.5555555555555556,
             "#d8576b"
            ],
            [
             0.6666666666666666,
             "#ed7953"
            ],
            [
             0.7777777777777778,
             "#fb9f3a"
            ],
            [
             0.8888888888888888,
             "#fdca26"
            ],
            [
             1,
             "#f0f921"
            ]
           ],
           "sequentialminus": [
            [
             0,
             "#0d0887"
            ],
            [
             0.1111111111111111,
             "#46039f"
            ],
            [
             0.2222222222222222,
             "#7201a8"
            ],
            [
             0.3333333333333333,
             "#9c179e"
            ],
            [
             0.4444444444444444,
             "#bd3786"
            ],
            [
             0.5555555555555556,
             "#d8576b"
            ],
            [
             0.6666666666666666,
             "#ed7953"
            ],
            [
             0.7777777777777778,
             "#fb9f3a"
            ],
            [
             0.8888888888888888,
             "#fdca26"
            ],
            [
             1,
             "#f0f921"
            ]
           ]
          },
          "colorway": [
           "#636efa",
           "#EF553B",
           "#00cc96",
           "#ab63fa",
           "#FFA15A",
           "#19d3f3",
           "#FF6692",
           "#B6E880",
           "#FF97FF",
           "#FECB52"
          ],
          "font": {
           "color": "#2a3f5f"
          },
          "geo": {
           "bgcolor": "white",
           "lakecolor": "white",
           "landcolor": "#E5ECF6",
           "showlakes": true,
           "showland": true,
           "subunitcolor": "white"
          },
          "hoverlabel": {
           "align": "left"
          },
          "hovermode": "closest",
          "mapbox": {
           "style": "light"
          },
          "paper_bgcolor": "white",
          "plot_bgcolor": "#E5ECF6",
          "polar": {
           "angularaxis": {
            "gridcolor": "white",
            "linecolor": "white",
            "ticks": ""
           },
           "bgcolor": "#E5ECF6",
           "radialaxis": {
            "gridcolor": "white",
            "linecolor": "white",
            "ticks": ""
           }
          },
          "scene": {
           "xaxis": {
            "backgroundcolor": "#E5ECF6",
            "gridcolor": "white",
            "gridwidth": 2,
            "linecolor": "white",
            "showbackground": true,
            "ticks": "",
            "zerolinecolor": "white"
           },
           "yaxis": {
            "backgroundcolor": "#E5ECF6",
            "gridcolor": "white",
            "gridwidth": 2,
            "linecolor": "white",
            "showbackground": true,
            "ticks": "",
            "zerolinecolor": "white"
           },
           "zaxis": {
            "backgroundcolor": "#E5ECF6",
            "gridcolor": "white",
            "gridwidth": 2,
            "linecolor": "white",
            "showbackground": true,
            "ticks": "",
            "zerolinecolor": "white"
           }
          },
          "shapedefaults": {
           "line": {
            "color": "#2a3f5f"
           }
          },
          "ternary": {
           "aaxis": {
            "gridcolor": "white",
            "linecolor": "white",
            "ticks": ""
           },
           "baxis": {
            "gridcolor": "white",
            "linecolor": "white",
            "ticks": ""
           },
           "bgcolor": "#E5ECF6",
           "caxis": {
            "gridcolor": "white",
            "linecolor": "white",
            "ticks": ""
           }
          },
          "title": {
           "x": 0.05
          },
          "xaxis": {
           "automargin": true,
           "gridcolor": "white",
           "linecolor": "white",
           "ticks": "",
           "title": {
            "standoff": 15
           },
           "zerolinecolor": "white",
           "zerolinewidth": 2
          },
          "yaxis": {
           "automargin": true,
           "gridcolor": "white",
           "linecolor": "white",
           "ticks": "",
           "title": {
            "standoff": 15
           },
           "zerolinecolor": "white",
           "zerolinewidth": 2
          }
         }
        },
        "title": {
         "text": "Loyal Costumer"
        },
        "xaxis": {
         "anchor": "y",
         "domain": [
          0,
          1
         ],
         "title": {
          "text": "index"
         }
        },
        "yaxis": {
         "anchor": "x",
         "domain": [
          0,
          1
         ],
         "title": {
          "text": "value"
         }
        }
       }
      },
      "text/html": [
       "<div>                            <div id=\"0e77bda4-da5b-44ee-ab11-a74599bc9fcd\" class=\"plotly-graph-div\" style=\"height:525px; width:100%;\"></div>            <script type=\"text/javascript\">                require([\"plotly\"], function(Plotly) {                    window.PLOTLYENV=window.PLOTLYENV || {};                                    if (document.getElementById(\"0e77bda4-da5b-44ee-ab11-a74599bc9fcd\")) {                    Plotly.newPlot(                        \"0e77bda4-da5b-44ee-ab11-a74599bc9fcd\",                        [{\"alignmentgroup\":\"True\",\"hovertemplate\":\"variable=CompanyName<br>index=%{x}<br>value=%{y}<extra></extra>\",\"legendgroup\":\"CompanyName\",\"marker\":{\"color\":\"#636efa\",\"pattern\":{\"shape\":\"\"}},\"name\":\"CompanyName\",\"offsetgroup\":\"CompanyName\",\"orientation\":\"v\",\"showlegend\":true,\"textposition\":\"auto\",\"x\":[\"Save-a-lot Markets\",\"Ernst Handel\",\"QUICK-Stop\",\"Hungry Owl All-Night Grocers\",\"Berglunds snabbkp\"],\"xaxis\":\"x\",\"y\":[116,95,86,55,52],\"yaxis\":\"y\",\"type\":\"bar\"}],                        {\"template\":{\"data\":{\"bar\":[{\"error_x\":{\"color\":\"#2a3f5f\"},\"error_y\":{\"color\":\"#2a3f5f\"},\"marker\":{\"line\":{\"color\":\"#E5ECF6\",\"width\":0.5},\"pattern\":{\"fillmode\":\"overlay\",\"size\":10,\"solidity\":0.2}},\"type\":\"bar\"}],\"barpolar\":[{\"marker\":{\"line\":{\"color\":\"#E5ECF6\",\"width\":0.5},\"pattern\":{\"fillmode\":\"overlay\",\"size\":10,\"solidity\":0.2}},\"type\":\"barpolar\"}],\"carpet\":[{\"aaxis\":{\"endlinecolor\":\"#2a3f5f\",\"gridcolor\":\"white\",\"linecolor\":\"white\",\"minorgridcolor\":\"white\",\"startlinecolor\":\"#2a3f5f\"},\"baxis\":{\"endlinecolor\":\"#2a3f5f\",\"gridcolor\":\"white\",\"linecolor\":\"white\",\"minorgridcolor\":\"white\",\"startlinecolor\":\"#2a3f5f\"},\"type\":\"carpet\"}],\"choropleth\":[{\"colorbar\":{\"outlinewidth\":0,\"ticks\":\"\"},\"type\":\"choropleth\"}],\"contour\":[{\"colorbar\":{\"outlinewidth\":0,\"ticks\":\"\"},\"colorscale\":[[0.0,\"#0d0887\"],[0.1111111111111111,\"#46039f\"],[0.2222222222222222,\"#7201a8\"],[0.3333333333333333,\"#9c179e\"],[0.4444444444444444,\"#bd3786\"],[0.5555555555555556,\"#d8576b\"],[0.6666666666666666,\"#ed7953\"],[0.7777777777777778,\"#fb9f3a\"],[0.8888888888888888,\"#fdca26\"],[1.0,\"#f0f921\"]],\"type\":\"contour\"}],\"contourcarpet\":[{\"colorbar\":{\"outlinewidth\":0,\"ticks\":\"\"},\"type\":\"contourcarpet\"}],\"heatmap\":[{\"colorbar\":{\"outlinewidth\":0,\"ticks\":\"\"},\"colorscale\":[[0.0,\"#0d0887\"],[0.1111111111111111,\"#46039f\"],[0.2222222222222222,\"#7201a8\"],[0.3333333333333333,\"#9c179e\"],[0.4444444444444444,\"#bd3786\"],[0.5555555555555556,\"#d8576b\"],[0.6666666666666666,\"#ed7953\"],[0.7777777777777778,\"#fb9f3a\"],[0.8888888888888888,\"#fdca26\"],[1.0,\"#f0f921\"]],\"type\":\"heatmap\"}],\"heatmapgl\":[{\"colorbar\":{\"outlinewidth\":0,\"ticks\":\"\"},\"colorscale\":[[0.0,\"#0d0887\"],[0.1111111111111111,\"#46039f\"],[0.2222222222222222,\"#7201a8\"],[0.3333333333333333,\"#9c179e\"],[0.4444444444444444,\"#bd3786\"],[0.5555555555555556,\"#d8576b\"],[0.6666666666666666,\"#ed7953\"],[0.7777777777777778,\"#fb9f3a\"],[0.8888888888888888,\"#fdca26\"],[1.0,\"#f0f921\"]],\"type\":\"heatmapgl\"}],\"histogram\":[{\"marker\":{\"pattern\":{\"fillmode\":\"overlay\",\"size\":10,\"solidity\":0.2}},\"type\":\"histogram\"}],\"histogram2d\":[{\"colorbar\":{\"outlinewidth\":0,\"ticks\":\"\"},\"colorscale\":[[0.0,\"#0d0887\"],[0.1111111111111111,\"#46039f\"],[0.2222222222222222,\"#7201a8\"],[0.3333333333333333,\"#9c179e\"],[0.4444444444444444,\"#bd3786\"],[0.5555555555555556,\"#d8576b\"],[0.6666666666666666,\"#ed7953\"],[0.7777777777777778,\"#fb9f3a\"],[0.8888888888888888,\"#fdca26\"],[1.0,\"#f0f921\"]],\"type\":\"histogram2d\"}],\"histogram2dcontour\":[{\"colorbar\":{\"outlinewidth\":0,\"ticks\":\"\"},\"colorscale\":[[0.0,\"#0d0887\"],[0.1111111111111111,\"#46039f\"],[0.2222222222222222,\"#7201a8\"],[0.3333333333333333,\"#9c179e\"],[0.4444444444444444,\"#bd3786\"],[0.5555555555555556,\"#d8576b\"],[0.6666666666666666,\"#ed7953\"],[0.7777777777777778,\"#fb9f3a\"],[0.8888888888888888,\"#fdca26\"],[1.0,\"#f0f921\"]],\"type\":\"histogram2dcontour\"}],\"mesh3d\":[{\"colorbar\":{\"outlinewidth\":0,\"ticks\":\"\"},\"type\":\"mesh3d\"}],\"parcoords\":[{\"line\":{\"colorbar\":{\"outlinewidth\":0,\"ticks\":\"\"}},\"type\":\"parcoords\"}],\"pie\":[{\"automargin\":true,\"type\":\"pie\"}],\"scatter\":[{\"marker\":{\"colorbar\":{\"outlinewidth\":0,\"ticks\":\"\"}},\"type\":\"scatter\"}],\"scatter3d\":[{\"line\":{\"colorbar\":{\"outlinewidth\":0,\"ticks\":\"\"}},\"marker\":{\"colorbar\":{\"outlinewidth\":0,\"ticks\":\"\"}},\"type\":\"scatter3d\"}],\"scattercarpet\":[{\"marker\":{\"colorbar\":{\"outlinewidth\":0,\"ticks\":\"\"}},\"type\":\"scattercarpet\"}],\"scattergeo\":[{\"marker\":{\"colorbar\":{\"outlinewidth\":0,\"ticks\":\"\"}},\"type\":\"scattergeo\"}],\"scattergl\":[{\"marker\":{\"colorbar\":{\"outlinewidth\":0,\"ticks\":\"\"}},\"type\":\"scattergl\"}],\"scattermapbox\":[{\"marker\":{\"colorbar\":{\"outlinewidth\":0,\"ticks\":\"\"}},\"type\":\"scattermapbox\"}],\"scatterpolar\":[{\"marker\":{\"colorbar\":{\"outlinewidth\":0,\"ticks\":\"\"}},\"type\":\"scatterpolar\"}],\"scatterpolargl\":[{\"marker\":{\"colorbar\":{\"outlinewidth\":0,\"ticks\":\"\"}},\"type\":\"scatterpolargl\"}],\"scatterternary\":[{\"marker\":{\"colorbar\":{\"outlinewidth\":0,\"ticks\":\"\"}},\"type\":\"scatterternary\"}],\"surface\":[{\"colorbar\":{\"outlinewidth\":0,\"ticks\":\"\"},\"colorscale\":[[0.0,\"#0d0887\"],[0.1111111111111111,\"#46039f\"],[0.2222222222222222,\"#7201a8\"],[0.3333333333333333,\"#9c179e\"],[0.4444444444444444,\"#bd3786\"],[0.5555555555555556,\"#d8576b\"],[0.6666666666666666,\"#ed7953\"],[0.7777777777777778,\"#fb9f3a\"],[0.8888888888888888,\"#fdca26\"],[1.0,\"#f0f921\"]],\"type\":\"surface\"}],\"table\":[{\"cells\":{\"fill\":{\"color\":\"#EBF0F8\"},\"line\":{\"color\":\"white\"}},\"header\":{\"fill\":{\"color\":\"#C8D4E3\"},\"line\":{\"color\":\"white\"}},\"type\":\"table\"}]},\"layout\":{\"annotationdefaults\":{\"arrowcolor\":\"#2a3f5f\",\"arrowhead\":0,\"arrowwidth\":1},\"autotypenumbers\":\"strict\",\"coloraxis\":{\"colorbar\":{\"outlinewidth\":0,\"ticks\":\"\"}},\"colorscale\":{\"diverging\":[[0,\"#8e0152\"],[0.1,\"#c51b7d\"],[0.2,\"#de77ae\"],[0.3,\"#f1b6da\"],[0.4,\"#fde0ef\"],[0.5,\"#f7f7f7\"],[0.6,\"#e6f5d0\"],[0.7,\"#b8e186\"],[0.8,\"#7fbc41\"],[0.9,\"#4d9221\"],[1,\"#276419\"]],\"sequential\":[[0.0,\"#0d0887\"],[0.1111111111111111,\"#46039f\"],[0.2222222222222222,\"#7201a8\"],[0.3333333333333333,\"#9c179e\"],[0.4444444444444444,\"#bd3786\"],[0.5555555555555556,\"#d8576b\"],[0.6666666666666666,\"#ed7953\"],[0.7777777777777778,\"#fb9f3a\"],[0.8888888888888888,\"#fdca26\"],[1.0,\"#f0f921\"]],\"sequentialminus\":[[0.0,\"#0d0887\"],[0.1111111111111111,\"#46039f\"],[0.2222222222222222,\"#7201a8\"],[0.3333333333333333,\"#9c179e\"],[0.4444444444444444,\"#bd3786\"],[0.5555555555555556,\"#d8576b\"],[0.6666666666666666,\"#ed7953\"],[0.7777777777777778,\"#fb9f3a\"],[0.8888888888888888,\"#fdca26\"],[1.0,\"#f0f921\"]]},\"colorway\":[\"#636efa\",\"#EF553B\",\"#00cc96\",\"#ab63fa\",\"#FFA15A\",\"#19d3f3\",\"#FF6692\",\"#B6E880\",\"#FF97FF\",\"#FECB52\"],\"font\":{\"color\":\"#2a3f5f\"},\"geo\":{\"bgcolor\":\"white\",\"lakecolor\":\"white\",\"landcolor\":\"#E5ECF6\",\"showlakes\":true,\"showland\":true,\"subunitcolor\":\"white\"},\"hoverlabel\":{\"align\":\"left\"},\"hovermode\":\"closest\",\"mapbox\":{\"style\":\"light\"},\"paper_bgcolor\":\"white\",\"plot_bgcolor\":\"#E5ECF6\",\"polar\":{\"angularaxis\":{\"gridcolor\":\"white\",\"linecolor\":\"white\",\"ticks\":\"\"},\"bgcolor\":\"#E5ECF6\",\"radialaxis\":{\"gridcolor\":\"white\",\"linecolor\":\"white\",\"ticks\":\"\"}},\"scene\":{\"xaxis\":{\"backgroundcolor\":\"#E5ECF6\",\"gridcolor\":\"white\",\"gridwidth\":2,\"linecolor\":\"white\",\"showbackground\":true,\"ticks\":\"\",\"zerolinecolor\":\"white\"},\"yaxis\":{\"backgroundcolor\":\"#E5ECF6\",\"gridcolor\":\"white\",\"gridwidth\":2,\"linecolor\":\"white\",\"showbackground\":true,\"ticks\":\"\",\"zerolinecolor\":\"white\"},\"zaxis\":{\"backgroundcolor\":\"#E5ECF6\",\"gridcolor\":\"white\",\"gridwidth\":2,\"linecolor\":\"white\",\"showbackground\":true,\"ticks\":\"\",\"zerolinecolor\":\"white\"}},\"shapedefaults\":{\"line\":{\"color\":\"#2a3f5f\"}},\"ternary\":{\"aaxis\":{\"gridcolor\":\"white\",\"linecolor\":\"white\",\"ticks\":\"\"},\"baxis\":{\"gridcolor\":\"white\",\"linecolor\":\"white\",\"ticks\":\"\"},\"bgcolor\":\"#E5ECF6\",\"caxis\":{\"gridcolor\":\"white\",\"linecolor\":\"white\",\"ticks\":\"\"}},\"title\":{\"x\":0.05},\"xaxis\":{\"automargin\":true,\"gridcolor\":\"white\",\"linecolor\":\"white\",\"ticks\":\"\",\"title\":{\"standoff\":15},\"zerolinecolor\":\"white\",\"zerolinewidth\":2},\"yaxis\":{\"automargin\":true,\"gridcolor\":\"white\",\"linecolor\":\"white\",\"ticks\":\"\",\"title\":{\"standoff\":15},\"zerolinecolor\":\"white\",\"zerolinewidth\":2}}},\"xaxis\":{\"anchor\":\"y\",\"domain\":[0.0,1.0],\"title\":{\"text\":\"index\"}},\"yaxis\":{\"anchor\":\"x\",\"domain\":[0.0,1.0],\"title\":{\"text\":\"value\"}},\"legend\":{\"title\":{\"text\":\"variable\"},\"tracegroupgap\":0},\"title\":{\"text\":\"Loyal Costumer\"},\"barmode\":\"relative\"},                        {\"responsive\": true}                    ).then(function(){\n",
       "                            \n",
       "var gd = document.getElementById('0e77bda4-da5b-44ee-ab11-a74599bc9fcd');\n",
       "var x = new MutationObserver(function (mutations, observer) {{\n",
       "        var display = window.getComputedStyle(gd).display;\n",
       "        if (!display || display === 'none') {{\n",
       "            console.log([gd, 'removed!']);\n",
       "            Plotly.purge(gd);\n",
       "            observer.disconnect();\n",
       "        }}\n",
       "}});\n",
       "\n",
       "// Listen for the removal of the full notebook cells\n",
       "var notebookContainer = gd.closest('#notebook-container');\n",
       "if (notebookContainer) {{\n",
       "    x.observe(notebookContainer, {childList: true});\n",
       "}}\n",
       "\n",
       "// Listen for the clearing of the current output cell\n",
       "var outputEl = gd.closest('.output');\n",
       "if (outputEl) {{\n",
       "    x.observe(outputEl, {childList: true});\n",
       "}}\n",
       "\n",
       "                        })                };                });            </script>        </div>"
      ]
     },
     "metadata": {},
     "output_type": "display_data"
    }
   ],
   "source": [
    "fig = px.bar(tabel1['CompanyName'].value_counts().head(),\n",
    "            title = 'Loyal Costumer')\n",
    "fig.show()"
   ]
  },
  {
   "cell_type": "markdown",
   "metadata": {},
   "source": [
    "Dari grafik diatas dapat kita lihat bahwa dari sekitar 2000an transaksi yang terjadi, hanya terdapat satu perusahaan yang memiliki data transaksi lebih dari 100 kali yakni Save-a-lot Markets. Ini menandakan bahwa Save-alot Markets merupakan perusahaan yang paling loyal dengan total transaksi lebih dari 100 kali. Adapun perusahaan-perusahaan yang masuk ke dalam top 5 loyal costumers antara lain : Save-a-lot Markets, Ernst Handel, QUICK-Stop, Hungry Owl All-Night Grocers dan Berglunds snabbkp.\n",
    "\n",
    "Melihat dengan adanya segmentasi customers yang cukup loyal di dalam transaksi ini, menandakan bahwa terdapat peluang untuk menawarkan barang-barang baru kepada mereka. Dimana sebagai produsen, kita dapat menawarkan promosi atau special offer kepada customers yang cukup loyal membeli barang. Dimana hal ini dilakukan agar customers yang sudah memiliki kepercayaan terhadap perusahaan akan semakin bisa lebih sering melakukan transaksi.\n",
    "\n",
    "Selain itu, kita juga dapat melihat data transaksi yang dibeli oleh customer lainnya dengan melihat features ``UnitsInOrder`` dan ``ReorderLevel`` sehingga kita mengetahui jenis barang yang banyak di order kembali oleh customers.\n",
    "\n",
    "*dikarenakan figshow, maka gambar tidak dapat dilihat pada github"
   ]
  },
  {
   "cell_type": "markdown",
   "metadata": {},
   "source": [
    "## **Negara Pemesan Produk Terbanyak**"
   ]
  },
  {
   "cell_type": "code",
   "execution_count": 45,
   "metadata": {},
   "outputs": [
    {
     "data": {
      "image/png": "[encoded data removed]",
      "text/plain": [
       "<Figure size 1440x720 with 1 Axes>"
      ]
     },
     "metadata": {
      "needs_background": "light"
     },
     "output_type": "display_data"
    }
   ],
   "source": [
    "plt.figure(figsize=(20,10))\n",
    "sns.countplot(tabel1['Country'],\n",
    "            order = tabel1['Country'].value_counts().index)\n",
    "plt.xlabel('Negara', size = 20)\n",
    "plt.ylabel('Jumlah Pesanan', size = 20)\n",
    "plt.title ('Negara Pemesan Terbanyak', size = 30)\n",
    "plt.show()"
   ]
  },
  {
   "cell_type": "markdown",
   "metadata": {},
   "source": [
    "Setelah sebelumnya telah mengetahui pelanggan atau customer yang loyal, berikutnya mari kita lihat negara mana saja yang menjadi pemesan terbanyak. Jika melihat data dari grafik di atas, terlihat jelas bahwa USA dan Germany menjadi negara tujuan pemesan terbanyak. Dimana kedua negara ini memiliki tingkat pembelian mencapai lebih dari 300. Jika kita melihat sesuai dengan grafik diatas secara seksama, maka dapat dilihat bahwa Negara Pemesan Terbanyak berasal dari negara-negara Benua Amerika dan Benua Eropa.\n",
    "\n",
    "Dari kesimpulan diatas, kita dapat mempertimbangkan untuk membangun kantor pusat pada Benua Amerika dan Benua Eropa. Dimana negara yang dapat dijadikan kantor pusat adalah USA dan Germany (sebagai negara pemesan terbanyak). Hal ini bertujuan agar proses produksi dan distribusi dari negara tujuan pembeli dapat dilakukan dalam waktu cepat sehingga akan meningkatkan keuntungan jika pasar dari pelanggan ini tidak bergeser. \n",
    "\n",
    "Sebenarnya tidak ada masalah bagi perusahaan untuk mencoba pangsa pasar di benua lainnya (Asia, Afrika, Australia). Namun perusahaan mungkin harus menghadirkan produk makanan yang sesuai dengan makanan khas pada setiap benua tersebut atau dapat menyuplai produk ke perusahaan-perusahaan makanan barat di benua-benua tersebut."
   ]
  },
  {
   "cell_type": "markdown",
   "metadata": {},
   "source": [
    "## **Status Level Reorder Pada Transaksi VS Produksi Barang**"
   ]
  },
  {
   "cell_type": "code",
   "execution_count": 46,
   "metadata": {},
   "outputs": [
    {
     "data": {
      "image/png": "[encoded data removed]",
      "text/plain": [
       "<Figure size 1080x720 with 2 Axes>"
      ]
     },
     "metadata": {},
     "output_type": "display_data"
    }
   ],
   "source": [
    "plt.style.use('seaborn')\n",
    "plt.figure(figsize=(15,10))\n",
    "\n",
    "plt.subplot(1,2,1)\n",
    "plt.pie(tabel1['ReorderLevel'].value_counts().values, \n",
    "        autopct='%1.1f%%', shadow=True, startangle=10, colors=['b','g','r','c','m','y','k'], explode= (0.1,0,0,0,0,0,0))\n",
    "plt.title ('Persentase ReOrder Level Pada Total Transaksi', size = 12)\n",
    "plt.legend(tabel1['ReorderLevel'].unique())\n",
    "\n",
    "plt.subplot(1,2,2)\n",
    "plt.pie(tabel4['Discontinued'].value_counts().values, \n",
    "        autopct='%1.1f%%', explode= (0.1,0.2), shadow=True, startangle=50, colors=['dimgray','whitesmoke'])\n",
    "plt.title ('Persentase Barang Produksi Kembali Pada Keseluruhan Produk', size = 12)\n",
    "plt.legend(tabel4['Discontinued'].unique())\n",
    "plt.show()"
   ]
  },
  {
   "cell_type": "markdown",
   "metadata": {},
   "source": [
    "Telah kita ketahui sebelumnya bahwa ada beberapa barang yang ``Discontinued`` atau tidak di produksi kembali dengan maksud yang telah disebutkan. Dimana kemungkinan alasan Discontinued barang tersebut tidak terlepas dari dikitnya ``ReorderLevel`` pada barang tersebut (pangsa pasar pada produk tersebut mengalami penurunan). Pada pie chart pertama kita dapat melihat bahwa banyak produk pada data transaksi tidak mengalami reorder (pemesanan kembali) pada produk tersebut, dimana didalamnya terdapat 8 produk yang semuanya berstatus ``Discontinued`` oleh perusahaan (*lihat tabel 3).\n",
    "\n",
    "Jika melihat nilai pada kedua pie chart tersebut, bisa disimpulkan bahwa perusahaan mungkin benar untuk men-cut 8 buah produk tersebut apabila perusahaan ingin memperbesar persentase reorder level transaksi dan berfokus untuk memaksimalkan profit dengan memproduksi dan menjual barang yang masih memiliki status reorder level yang masih tinggi."
   ]
  },
  {
   "cell_type": "markdown",
   "metadata": {},
   "source": [
    "## **Product Terlaris**"
   ]
  },
  {
   "cell_type": "code",
   "execution_count": 47,
   "metadata": {},
   "outputs": [
    {
     "data": {
      "image/png": "[encoded data removed]",
      "text/plain": [
       "<Figure size 1440x720 with 1 Axes>"
      ]
     },
     "metadata": {},
     "output_type": "display_data"
    }
   ],
   "source": [
    "# Product Line Quantities\n",
    "\n",
    "productQuanti = tabel1[['CategoryName', 'ProductName']].groupby(['CategoryName']).count().sort_values('ProductName')\n",
    "x = productQuanti.index\n",
    "y = productQuanti['ProductName']\n",
    "\n",
    "plt.style.use('seaborn')\n",
    "plt.figure(figsize = (20,10))\n",
    "plt.barh(x,y, color = sns.color_palette('bright'))\n",
    "plt.title('Product Quantities', size = 30)\n",
    "plt.xlabel('Quantities', size = 25)\n",
    "plt.ylabel('Product', size = 25)\n",
    "plt.show()"
   ]
  },
  {
   "cell_type": "markdown",
   "metadata": {},
   "source": [
    "Pada grafik diatas, kita alihkan fokus pada produk yang dijual dan ditawarkan. Terlihat top 3 product yang paling banyak dipesan adalah Beverages, Dairy Products dan Confections. Jika melihat jenis makanannya (Soft drinks, coffees, teas, beers, ales, Cheeses, Sweet and savory sauces, relishes, spreads, seasonings, ), ketiga product line yang menjadi top 3 ini adalah jenis makanan yang normal atau pada umumnya dibeli dan digunakan pada Benua Amerika dan Benua Eropa. Hal tersebut bisa menjadi alasan wajar kenapa ketiga line product ini menjadi yang paling banyak dibeli. \n",
    "\n",
    "Melihat keadaan tersebut, pihak perusahaan dapat menjadikan produksi Beverages, Dairy Products dan Confections untuk menjadi line produksi yang di prioritaskan. Hal ini dilakukan karena masih banyak demand pada ketiga line products ini di kedua benua tersebut. Namun mungkin perusahaan harus meakukan riset terlebih dahulu di setiap negara untuk mementukan stok pasaran yang bisa dibuat sehingga stock akan berbanding lurus dengan demand."
   ]
  },
  {
   "cell_type": "markdown",
   "metadata": {},
   "source": [
    "## **Amount Order per Bulan**"
   ]
  },
  {
   "cell_type": "code",
   "execution_count": 48,
   "metadata": {},
   "outputs": [
    {
     "data": {
      "text/html": [
       "<div>\n",
       "<style scoped>\n",
       "    .dataframe tbody tr th:only-of-type {\n",
       "        vertical-align: middle;\n",
       "    }\n",
       "\n",
       "    .dataframe tbody tr th {\n",
       "        vertical-align: top;\n",
       "    }\n",
       "\n",
       "    .dataframe thead th {\n",
       "        text-align: right;\n",
       "    }\n",
       "</style>\n",
       "<table border=\"1\" class=\"dataframe\">\n",
       "  <thead>\n",
       "    <tr style=\"text-align: right;\">\n",
       "      <th></th>\n",
       "      <th>Quantity</th>\n",
       "    </tr>\n",
       "    <tr>\n",
       "      <th>OrderDate</th>\n",
       "      <th></th>\n",
       "    </tr>\n",
       "  </thead>\n",
       "  <tbody>\n",
       "    <tr>\n",
       "      <th>1996</th>\n",
       "      <td>9581.0</td>\n",
       "    </tr>\n",
       "    <tr>\n",
       "      <th>1997</th>\n",
       "      <td>25489.0</td>\n",
       "    </tr>\n",
       "    <tr>\n",
       "      <th>1998</th>\n",
       "      <td>15049.0</td>\n",
       "    </tr>\n",
       "  </tbody>\n",
       "</table>\n",
       "</div>"
      ],
      "text/plain": [
       "           Quantity\n",
       "OrderDate          \n",
       "1996         9581.0\n",
       "1997        25489.0\n",
       "1998        15049.0"
      ]
     },
     "execution_count": 48,
     "metadata": {},
     "output_type": "execute_result"
    }
   ],
   "source": [
    "yearqty = tabel1[['OrderDate', 'Quantity']].groupby(pd.DatetimeIndex(tabel1['OrderDate']).year).sum()\n",
    "yearqty"
   ]
  },
  {
   "cell_type": "code",
   "execution_count": 49,
   "metadata": {},
   "outputs": [
    {
     "data": {
      "image/png": "[encoded data removed]",
      "text/plain": [
       "<Figure size 1440x720 with 1 Axes>"
      ]
     },
     "metadata": {},
     "output_type": "display_data"
    }
   ],
   "source": [
    "# Line Plot Year By Year Quantity\n",
    "\n",
    "plt.style.use('seaborn')\n",
    "plt.figure(figsize=(20,10))\n",
    "plt.plot(yearqty.index, yearqty['Quantity'], 'ro-')\n",
    "plt.title('Quantity Penjualan Produk 1996 - 1998', size = 20)\n",
    "plt.xlabel('Tahun', size = 18)\n",
    "plt.ylabel('Quantity', size = 18)\n",
    "plt.xticks(yearqty.index, rotation = 90, size = 12)\n",
    "plt.yticks(rotation = 45, size = 12)\n",
    "\n",
    "for x,y in zip(yearqty.index, round(yearqty['Quantity'],1)) :\n",
    "    plt.annotate(y,\n",
    "    (x,y),\n",
    "    textcoords = 'offset pixels',\n",
    "    xytext = (1,15))\n",
    "\n",
    "plt.show()"
   ]
  },
  {
   "cell_type": "markdown",
   "metadata": {},
   "source": [
    "Database yang dimiliki saat ini adalah database transaksi penjualan kendaraan dalam rentan tahun 1996 hingga tahun 1998. Mari coba kita lihat line graphic quantity order yang dipesan oleh customers dari tahun ke tahun. \n",
    "\n",
    "Terlihat jelas pada grafik, penjualan terbesar secara quantity dalam 1 tahun terjadi pada tahun 1997 yakni sebanyak 25489 pieces. Secara grafik diatas, dapat dilihat bahwa pada tahun 1996 dan 1998 nilai penjualan cukup menurun. Namun hal tersebut dikarenakan dari database yang dimiliki, tahun 1996 hanya memiliki range data 6 bulan terakhir dan tahun 1998 hanya memiliki range data 5 bulan terakhir."
   ]
  },
  {
   "cell_type": "code",
   "execution_count": 50,
   "metadata": {},
   "outputs": [
    {
     "data": {
      "image/png": "[encoded data removed]",
      "text/plain": [
       "<Figure size 1440x720 with 1 Axes>"
      ]
     },
     "metadata": {},
     "output_type": "display_data"
    }
   ],
   "source": [
    "# Line Plot Quantity Each Month\n",
    "\n",
    "plt.figure(figsize=(20,10))\n",
    "sns.lineplot(data=tabel1, x=pd.DatetimeIndex(tabel1['ShippedDate']).month, y='Quantity', hue = pd.DatetimeIndex(tabel1['ShippedDate']).year)\n",
    "plt.title('Perkembangan Quantity Order Setiap Bulan Tahun 1996 - 1998', size = 20)\n",
    "plt.xlabel('Bulan', size = 18)\n",
    "plt.ylabel('Quantity', size = 18)\n",
    "plt.xticks(pd.DatetimeIndex(tabel1['ShippedDate']).month, size = 12)\n",
    "plt.yticks(rotation = 45, size = 12)\n",
    "plt.show()"
   ]
  },
  {
   "cell_type": "markdown",
   "metadata": {},
   "source": [
    "## **Visualisasi Data Outliers pada feature UnitsInStock**"
   ]
  },
  {
   "cell_type": "code",
   "execution_count": 51,
   "metadata": {},
   "outputs": [
    {
     "data": {
      "image/png": "[encoded data removed]",
      "text/plain": [
       "<Figure size 1080x720 with 1 Axes>"
      ]
     },
     "metadata": {},
     "output_type": "display_data"
    }
   ],
   "source": [
    "#Menampilkan Data Outlier pada feature UnitsInStock\n",
    "\n",
    "plt.figure(figsize=(15,10))\n",
    "sns.boxplot(x = tabel1['UnitsInStock'], y =tabel1['CategoryName'])\n",
    "plt.title('Units In Stock', Size=18)\n",
    "plt.show()"
   ]
  },
  {
   "cell_type": "markdown",
   "metadata": {},
   "source": [
    "Dari Boxplot diatas kita dapat melihat bahwa secara general hanya sedikit outliers ``UnitsInStock`` yang ada yaitu pada Beverages, Graons/Cereals, Confections dan Meat/Poultry. Dimana masih banyak stock yang ada pada perusahaan untuk produk line Seafood dibandingkan dengan produk line yang lain."
   ]
  },
  {
   "cell_type": "markdown",
   "metadata": {},
   "source": [
    "## **Melihat Perbedaan Quantity Tiap Product**"
   ]
  },
  {
   "cell_type": "code",
   "execution_count": 52,
   "metadata": {},
   "outputs": [
    {
     "name": "stdout",
     "output_type": "stream",
     "text": [
      "Tolak H0 Karena P-Value (3.3119829334163484e-40 < 5%)\n",
      "DATA TIDAK BERDISTRIBUSI NORMAL\n"
     ]
    }
   ],
   "source": [
    "# Uji Perbandingan Jumlah Quantity Antar Setiap Product Line (Normalitas)\n",
    "\n",
    "from scipy.stats import shapiro\n",
    "\n",
    "norm, pval = shapiro(tabel1['Quantity'])\n",
    "\n",
    "if pval < 0.05 :\n",
    "    print (f'Tolak H0 Karena P-Value ({pval} < 5%)')\n",
    "    print ('DATA TIDAK BERDISTRIBUSI NORMAL')\n",
    "else :\n",
    "    print (f'Gagal Tolak H0 Karena P-Value ({pval} > 5%)')\n",
    "    print ('DATA BERDISTRIBUSI NORMAL')"
   ]
  },
  {
   "cell_type": "code",
   "execution_count": 53,
   "metadata": {},
   "outputs": [
    {
     "name": "stdout",
     "output_type": "stream",
     "text": [
      "Gagal Tolak H0 Karena P-Value (3.3119829334163484e-40 > 5%)\n",
      "Tidak Terdapat Perbedaan Nilai Median Quantity pada Setiap Product Yang Ada\n"
     ]
    }
   ],
   "source": [
    "# Uji Perbandingan Jumlah Quantity Antar Setiap Product Line (Kruskal Wallis)\n",
    "\n",
    "from scipy.stats import kruskal\n",
    "\n",
    "krus, pvalkrus = kruskal(\n",
    "    tabel1[tabel1['CategoryName'] == 'Beverages']['Quantity'],\n",
    "    tabel1[tabel1['CategoryName'] == 'Condiments']['Quantity'],\n",
    "    tabel1[tabel1['CategoryName'] == 'Confections']['Quantity'],\n",
    "    tabel1[tabel1['CategoryName'] == 'Dairy Products']['Quantity'],\n",
    "    tabel1[tabel1['CategoryName'] == 'Grains/Cereals']['Quantity'],\n",
    "    tabel1[tabel1['CategoryName'] == 'Meat/Poultry']['Quantity'],\n",
    "    tabel1[tabel1['CategoryName'] == 'Produce']['Quantity'],\n",
    "    tabel1[tabel1['CategoryName'] == 'Seafood']['Quantity']\n",
    ") \n",
    "\n",
    "if pvalkrus < 0.05 :\n",
    "    print (f'Tolak H0 Karena P-Value ({pval} < 5%)')\n",
    "    print ('Terdapat Perbedaan Nilai Median Quantity pada Setiap Product Yang Ada')\n",
    "else :\n",
    "    print (f'Gagal Tolak H0 Karena P-Value ({pval} > 5%)')\n",
    "    print ('Tidak Terdapat Perbedaan Nilai Median Quantity pada Setiap Product Yang Ada')"
   ]
  },
  {
   "cell_type": "markdown",
   "metadata": {},
   "source": [
    "## **Hubungan antara Order, Stock, Price, ReOrder dan Freight**"
   ]
  },
  {
   "cell_type": "code",
   "execution_count": 54,
   "metadata": {},
   "outputs": [
    {
     "data": {
      "text/plain": [
       "<matplotlib.axes._subplots.AxesSubplot at 0x2de333a2730>"
      ]
     },
     "execution_count": 54,
     "metadata": {},
     "output_type": "execute_result"
    },
    {
     "data": {
      "image/png": "[encoded data removed]",
      "text/plain": [
       "<Figure size 720x648 with 2 Axes>"
      ]
     },
     "metadata": {},
     "output_type": "display_data"
    }
   ],
   "source": [
    "# Mencari Korelasi (Hubungan antara Order, Stock, Price, ReOrder, Discontinued dan Freight)\n",
    "\n",
    "plt.figure(figsize=(10,9))\n",
    "sns.heatmap(tabel1[['UnitsOnOrder', 'UnitsInStock', 'UnitPrice', 'ReorderLevel','Freight']].corr('spearman'), annot=True, cmap='YlGnBu')"
   ]
  },
  {
   "cell_type": "markdown",
   "metadata": {},
   "source": [
    "Dari heatmap diatas dapat kita lihat bahwa yang memiliki korelasi paling tinggi adalah antara feature ``Reorder Level`` dan feature ``UnitsOnOrder``. Hal ini menunjukkan bahwa unit yang sedang di order di dalam dataset kemungkinan besar merupakan produk yang di reorder oleh customers. Oleh karena itu perusahaan sangat disarankan untuk berfokus atau meningkatkan produksi pada produk yang sering dibeli dah dilakukan reorder oleh customers *(untuk melihat line produk apa saja yang sering di dilakukan reorder oleh customers kita sudah membahasnya sebelumnya)*.\n",
    "\n",
    "Kita juga dapat melihat bahwa adanya sedikit korelasi antara feature ``UnitPrice`` dan feature ``Freight``. Hal ini mungkin disebabkan oleh perbedaan penetapan harga pada biaya pengiriman (freight) pada setiap unit makanan. Sehingga pada produk tertentu, ``UnitPrice`` akan menyesuaikan harga sesuai dengan biaya pengiriman ``freight``"
   ]
  },
  {
   "cell_type": "code",
   "execution_count": 55,
   "metadata": {},
   "outputs": [
    {
     "data": {
      "image/png": "[encoded data removed]",
      "text/plain": [
       "<Figure size 720x576 with 1 Axes>"
      ]
     },
     "metadata": {},
     "output_type": "display_data"
    }
   ],
   "source": [
    "# Korelasi Antara Feature ReorderLevel dan UnitsOnOrder\n",
    "\n",
    "plt.figure(figsize=(10,8))\n",
    "sns.scatterplot(tabel1['ReorderLevel'], tabel1['UnitsOnOrder'])\n",
    "plt.title('Korelasi antara Reorder dan Units on Order', size = 20)\n",
    "plt.xlabel('Reorder Level', size = 18)\n",
    "plt.ylabel('Units On Order', size = 18)\n",
    "plt.show()"
   ]
  },
  {
   "cell_type": "markdown",
   "metadata": {},
   "source": [
    "## Melihat dengan adanya korelasi antara feature ``Reorder Level`` dan ``Units On Order`` pada heatmap, sekarang kita coba akan menelusuri hubungan antara kedua feature tersebut dengan scatter plot. Dapat kita lihat bahwa tidak terlalu bisa menyimpulkan korelasi antara Reorder Level dan Units On Order dikarenakan persebaran datanya berdistribusi tidak normal."
   ]
  },
  {
   "cell_type": "code",
   "execution_count": null,
   "metadata": {},
   "outputs": [],
   "source": []
  }
 ],
 "metadata": {
  "kernelspec": {
   "display_name": "Python 3",
   "language": "python",
   "name": "python3"
  },
  "language_info": {
   "codemirror_mode": {
    "name": "ipython",
    "version": 3
   },
   "file_extension": ".py",
   "mimetype": "text/x-python",
   "name": "python",
   "nbconvert_exporter": "python",
   "pygments_lexer": "ipython3",
   "version": "3.8.3"
  }
 },
 "nbformat": 4,
 "nbformat_minor": 4
}
